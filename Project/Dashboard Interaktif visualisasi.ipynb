{
 "cells": [
  {
   "cell_type": "markdown",
   "id": "5ffd03b6",
   "metadata": {},
   "source": [
    "# **DASHBOARD VISUALISASI INTERAKTIF**"
   ]
  },
  {
   "cell_type": "code",
   "execution_count": 1,
   "id": "cb51601d",
   "metadata": {},
   "outputs": [],
   "source": [
    "import pandas as pd\n",
    "import os\n",
    "import matplotlib.pyplot as plt"
   ]
  },
  {
   "cell_type": "markdown",
   "id": "cac36187",
   "metadata": {},
   "source": [
    "## **Data Wragling**"
   ]
  },
  {
   "cell_type": "markdown",
   "id": "39f81957",
   "metadata": {},
   "source": [
    "### **IPM (Indeks Pembangunan Manusia Menurut Dimensi Tahun 2019-2024)**"
   ]
  },
  {
   "cell_type": "code",
   "execution_count": 5,
   "id": "e70c45cb",
   "metadata": {},
   "outputs": [
    {
     "data": {
      "application/vnd.microsoft.datawrangler.viewer.v0+json": {
       "columns": [
        {
         "name": "index",
         "rawType": "int64",
         "type": "integer"
        },
        {
         "name": "Dimensi/Indikator",
         "rawType": "object",
         "type": "string"
        },
        {
         "name": "Indeks Pembangunan Manusia Menurut Dimensi",
         "rawType": "object",
         "type": "unknown"
        }
       ],
       "ref": "86c266b8-7393-44ce-8beb-995589a3a425",
       "rows": [
        [
         "0",
         "Tahun",
         "2019"
        ],
        [
         "1",
         "Umur Harapan Hidup saat Lahir (UHH)",
         "73.95"
        ],
        [
         "2",
         "Harapan Lama Sekolah (HLS)",
         "13.15"
        ],
        [
         "3",
         "Rata-rata Lama Sekolah (RLS)",
         "8.07"
        ],
        [
         "4",
         "Pengeluaran Riil per Kapita (yang disesuaikan)",
         "-"
        ],
        [
         "5",
         "Indeks Pembangunan Manusia (IPM)",
         "72.62"
        ]
       ],
       "shape": {
        "columns": 2,
        "rows": 6
       }
      },
      "text/html": [
       "<div>\n",
       "<style scoped>\n",
       "    .dataframe tbody tr th:only-of-type {\n",
       "        vertical-align: middle;\n",
       "    }\n",
       "\n",
       "    .dataframe tbody tr th {\n",
       "        vertical-align: top;\n",
       "    }\n",
       "\n",
       "    .dataframe thead th {\n",
       "        text-align: right;\n",
       "    }\n",
       "</style>\n",
       "<table border=\"1\" class=\"dataframe\">\n",
       "  <thead>\n",
       "    <tr style=\"text-align: right;\">\n",
       "      <th></th>\n",
       "      <th>Dimensi/Indikator</th>\n",
       "      <th>Indeks Pembangunan Manusia Menurut Dimensi</th>\n",
       "    </tr>\n",
       "  </thead>\n",
       "  <tbody>\n",
       "    <tr>\n",
       "      <th>0</th>\n",
       "      <td>Tahun</td>\n",
       "      <td>2019</td>\n",
       "    </tr>\n",
       "    <tr>\n",
       "      <th>1</th>\n",
       "      <td>Umur Harapan Hidup saat Lahir (UHH)</td>\n",
       "      <td>73.95</td>\n",
       "    </tr>\n",
       "    <tr>\n",
       "      <th>2</th>\n",
       "      <td>Harapan Lama Sekolah (HLS)</td>\n",
       "      <td>13.15</td>\n",
       "    </tr>\n",
       "    <tr>\n",
       "      <th>3</th>\n",
       "      <td>Rata-rata Lama Sekolah (RLS)</td>\n",
       "      <td>8.07</td>\n",
       "    </tr>\n",
       "    <tr>\n",
       "      <th>4</th>\n",
       "      <td>Pengeluaran Riil per Kapita (yang disesuaikan)</td>\n",
       "      <td>-</td>\n",
       "    </tr>\n",
       "    <tr>\n",
       "      <th>5</th>\n",
       "      <td>Indeks Pembangunan Manusia (IPM)</td>\n",
       "      <td>72.62</td>\n",
       "    </tr>\n",
       "  </tbody>\n",
       "</table>\n",
       "</div>"
      ],
      "text/plain": [
       "                                Dimensi/Indikator  \\\n",
       "0                                           Tahun   \n",
       "1             Umur Harapan Hidup saat Lahir (UHH)   \n",
       "2                      Harapan Lama Sekolah (HLS)   \n",
       "3                    Rata-rata Lama Sekolah (RLS)   \n",
       "4  Pengeluaran Riil per Kapita (yang disesuaikan)   \n",
       "5                Indeks Pembangunan Manusia (IPM)   \n",
       "\n",
       "  Indeks Pembangunan Manusia Menurut Dimensi  \n",
       "0                                       2019  \n",
       "1                                      73.95  \n",
       "2                                      13.15  \n",
       "3                                       8.07  \n",
       "4                                          -  \n",
       "5                                      72.62  "
      ]
     },
     "execution_count": 5,
     "metadata": {},
     "output_type": "execute_result"
    }
   ],
   "source": [
    "df = pd.read_excel(\"Dataset/IPM/fix IPM/Indeks Pembangunan Manusia Menurut Dimensi, 2019.xlsx\")\n",
    "df = pd.read_excel(\"Dataset/IPM/fix IPM/Indeks Pembangunan Manusia Menurut Dimensi, 2019.xlsx\", sheet_name=\"Sheet1\")\n",
    "df"
   ]
  },
  {
   "cell_type": "markdown",
   "id": "a14bfbb6",
   "metadata": {},
   "source": [
    "Membuat hanya 2 kolom yang dipengaruhi oleh tahun"
   ]
  },
  {
   "cell_type": "code",
   "execution_count": null,
   "id": "2a8e59f5",
   "metadata": {},
   "outputs": [],
   "source": [
    "folder = \"Dashboard Interaktif/Dataset/IPM/fix IPM\"\n",
    "files = [f for f in os.listdir(folder) if f.endswith('.xlsx')]\n",
    "\n",
    "df_ipm_all = pd.DataFrame()\n",
    "\n",
    "for file in files:\n",
    "    path = os.path.join(folder, file)\n",
    "    df = pd.read_excel(path, header=None)\n",
    "    df = df.iloc[1:6]  \n",
    "    df.columns = ['Indikator', 'Nilai']\n",
    "    tahun = int(file[-9:-5]) \n",
    "    df['Tahun'] = tahun\n",
    "    df_ipm_all = pd.concat([df_ipm_all, df], ignore_index=True)\n",
    "\n",
    "df_ipm_all.to_csv(\"Dashboard Interaktif/Data Clean/ipm_long.csv\", index=False)\n",
    "\n",
    "# df_ipm.to_csv(\"Dashboard Interaktif/Data Clean\", index=False)\n"
   ]
  },
  {
   "cell_type": "code",
   "execution_count": null,
   "id": "2ec31635",
   "metadata": {},
   "outputs": [],
   "source": [
    "df_raw = pd.read_csv(\"Dashboard Interaktif/Data Clean/ipm_long.csv\", names=[\"Indikator\", \"Nilai\", \"Tahun\"])\n",
    "data_bersih = []\n",
    "# Variabel penampung tahun saat ini\n",
    "tahun_sekarang = None\n",
    "\n",
    "for i, row in df_raw.iterrows():\n",
    "    indikator = row['Indikator']\n",
    "    nilai = row['Nilai']\n",
    "    tahun = row['Tahun']\n",
    "\n",
    "    # jika baris ini adalah baris \"Tahun\", simpan sebagai tahun sekarang\n",
    "    if indikator.strip().lower() == 'tahun':\n",
    "        tahun_sekarang = tahun\n",
    "        continue\n",
    "\n",
    "    # lanjut jika baris tidak valid (misal header duplikat)\n",
    "    if indikator.strip().lower() == 'indikator':\n",
    "        continue\n",
    "\n",
    "    try:\n",
    "        nilai_float = float(nilai) if nilai != \"-\" else None\n",
    "    except ValueError:\n",
    "        # Kalau konversi gagal (misal ada tulisan aneh), skip saja\n",
    "        continue\n",
    "\n",
    "    data_bersih.append({\n",
    "        \"Tahun\": tahun_sekarang,\n",
    "        \"Indikator\": indikator,\n",
    "        \"Nilai\": nilai_float\n",
    "    })\n",
    "\n",
    "df_bersih = pd.DataFrame(data_bersih)\n",
    "df_bersih.to_csv(\"Dashboard Interaktif/Data Clean/ipm_clean.csv\", index=False)"
   ]
  },
  {
   "cell_type": "code",
   "execution_count": 7,
   "id": "fff7ec9d",
   "metadata": {},
   "outputs": [
    {
     "data": {
      "application/vnd.microsoft.datawrangler.viewer.v0+json": {
       "columns": [
        {
         "name": "index",
         "rawType": "int64",
         "type": "integer"
        },
        {
         "name": "Tahun",
         "rawType": "object",
         "type": "string"
        },
        {
         "name": "Indikator",
         "rawType": "object",
         "type": "string"
        },
        {
         "name": "Nilai",
         "rawType": "float64",
         "type": "float"
        }
       ],
       "ref": "7f1f78ea-bd7e-4ed0-aa12-0927e1ab0bed",
       "rows": [
        [
         "0",
         "2019",
         "Umur Harapan Hidup saat Lahir (UHH)",
         "73.95"
        ],
        [
         "1",
         "2019",
         "Harapan Lama Sekolah (HLS)",
         "13.15"
        ],
        [
         "2",
         "2019",
         "Rata-rata Lama Sekolah (RLS)",
         "8.07"
        ],
        [
         "3",
         "2019",
         "Pengeluaran Riil per Kapita (yang disesuaikan)",
         null
        ],
        [
         "4",
         "2020",
         "Umur Harapan Hidup saat Lahir (UHH)",
         "74.08"
        ],
        [
         "5",
         "2020",
         "Harapan Lama Sekolah (HLS)",
         "13.31"
        ],
        [
         "6",
         "2020",
         "Rata-rata Lama Sekolah (RLS)",
         "8.33"
        ],
        [
         "7",
         "2020",
         "Pengeluaran Riil per Kapita (yang disesuaikan)",
         null
        ],
        [
         "8",
         "2021",
         "Umur Harapan Hidup saat Lahir (UHH)",
         "74.16"
        ],
        [
         "9",
         "2021",
         "Harapan Lama Sekolah (HLS)",
         "13.32"
        ],
        [
         "10",
         "2021",
         "Rata-rata Lama Sekolah (RLS)",
         "8.34"
        ],
        [
         "11",
         "2021",
         "Pengeluaran Riil per Kapita (yang disesuaikan)",
         null
        ],
        [
         "12",
         "2022",
         "Umur Harapan Hidup saat Lahir (UHH)",
         "74.54"
        ],
        [
         "13",
         "2022",
         "Harapan Lama Sekolah (HLS)",
         "13.33"
        ],
        [
         "14",
         "2022",
         "Rata-rata Lama Sekolah (RLS)",
         "8.65"
        ],
        [
         "15",
         "2022",
         "Pengeluaran Riil per Kapita (yang disesuaikan)",
         null
        ],
        [
         "16",
         "2023",
         "Umur Harapan Hidup saat Lahir (UHH)",
         "74.99"
        ],
        [
         "17",
         "2023",
         "Harapan Lama Sekolah (HLS)",
         "13.34"
        ],
        [
         "18",
         "2023",
         "Rata-rata Lama Sekolah (RLS)",
         "8.66"
        ],
        [
         "19",
         "2023",
         "Pengeluaran Riil per Kapita (yang disesuaikan)",
         null
        ],
        [
         "20",
         "2024",
         "Umur Harapan Hidup saat Lahir (UHH)",
         "75.2"
        ],
        [
         "21",
         "2024",
         "Harapan Lama Sekolah (HLS)",
         "13.36"
        ],
        [
         "22",
         "2024",
         "Rata-rata Lama Sekolah (RLS)",
         "8.68"
        ],
        [
         "23",
         "2024",
         "Pengeluaran Riil per Kapita (yang disesuaikan)",
         null
        ]
       ],
       "shape": {
        "columns": 3,
        "rows": 24
       }
      },
      "text/html": [
       "<div>\n",
       "<style scoped>\n",
       "    .dataframe tbody tr th:only-of-type {\n",
       "        vertical-align: middle;\n",
       "    }\n",
       "\n",
       "    .dataframe tbody tr th {\n",
       "        vertical-align: top;\n",
       "    }\n",
       "\n",
       "    .dataframe thead th {\n",
       "        text-align: right;\n",
       "    }\n",
       "</style>\n",
       "<table border=\"1\" class=\"dataframe\">\n",
       "  <thead>\n",
       "    <tr style=\"text-align: right;\">\n",
       "      <th></th>\n",
       "      <th>Tahun</th>\n",
       "      <th>Indikator</th>\n",
       "      <th>Nilai</th>\n",
       "    </tr>\n",
       "  </thead>\n",
       "  <tbody>\n",
       "    <tr>\n",
       "      <th>0</th>\n",
       "      <td>2019</td>\n",
       "      <td>Umur Harapan Hidup saat Lahir (UHH)</td>\n",
       "      <td>73.95</td>\n",
       "    </tr>\n",
       "    <tr>\n",
       "      <th>1</th>\n",
       "      <td>2019</td>\n",
       "      <td>Harapan Lama Sekolah (HLS)</td>\n",
       "      <td>13.15</td>\n",
       "    </tr>\n",
       "    <tr>\n",
       "      <th>2</th>\n",
       "      <td>2019</td>\n",
       "      <td>Rata-rata Lama Sekolah (RLS)</td>\n",
       "      <td>8.07</td>\n",
       "    </tr>\n",
       "    <tr>\n",
       "      <th>3</th>\n",
       "      <td>2019</td>\n",
       "      <td>Pengeluaran Riil per Kapita (yang disesuaikan)</td>\n",
       "      <td>NaN</td>\n",
       "    </tr>\n",
       "    <tr>\n",
       "      <th>4</th>\n",
       "      <td>2020</td>\n",
       "      <td>Umur Harapan Hidup saat Lahir (UHH)</td>\n",
       "      <td>74.08</td>\n",
       "    </tr>\n",
       "    <tr>\n",
       "      <th>5</th>\n",
       "      <td>2020</td>\n",
       "      <td>Harapan Lama Sekolah (HLS)</td>\n",
       "      <td>13.31</td>\n",
       "    </tr>\n",
       "    <tr>\n",
       "      <th>6</th>\n",
       "      <td>2020</td>\n",
       "      <td>Rata-rata Lama Sekolah (RLS)</td>\n",
       "      <td>8.33</td>\n",
       "    </tr>\n",
       "    <tr>\n",
       "      <th>7</th>\n",
       "      <td>2020</td>\n",
       "      <td>Pengeluaran Riil per Kapita (yang disesuaikan)</td>\n",
       "      <td>NaN</td>\n",
       "    </tr>\n",
       "    <tr>\n",
       "      <th>8</th>\n",
       "      <td>2021</td>\n",
       "      <td>Umur Harapan Hidup saat Lahir (UHH)</td>\n",
       "      <td>74.16</td>\n",
       "    </tr>\n",
       "    <tr>\n",
       "      <th>9</th>\n",
       "      <td>2021</td>\n",
       "      <td>Harapan Lama Sekolah (HLS)</td>\n",
       "      <td>13.32</td>\n",
       "    </tr>\n",
       "    <tr>\n",
       "      <th>10</th>\n",
       "      <td>2021</td>\n",
       "      <td>Rata-rata Lama Sekolah (RLS)</td>\n",
       "      <td>8.34</td>\n",
       "    </tr>\n",
       "    <tr>\n",
       "      <th>11</th>\n",
       "      <td>2021</td>\n",
       "      <td>Pengeluaran Riil per Kapita (yang disesuaikan)</td>\n",
       "      <td>NaN</td>\n",
       "    </tr>\n",
       "    <tr>\n",
       "      <th>12</th>\n",
       "      <td>2022</td>\n",
       "      <td>Umur Harapan Hidup saat Lahir (UHH)</td>\n",
       "      <td>74.54</td>\n",
       "    </tr>\n",
       "    <tr>\n",
       "      <th>13</th>\n",
       "      <td>2022</td>\n",
       "      <td>Harapan Lama Sekolah (HLS)</td>\n",
       "      <td>13.33</td>\n",
       "    </tr>\n",
       "    <tr>\n",
       "      <th>14</th>\n",
       "      <td>2022</td>\n",
       "      <td>Rata-rata Lama Sekolah (RLS)</td>\n",
       "      <td>8.65</td>\n",
       "    </tr>\n",
       "    <tr>\n",
       "      <th>15</th>\n",
       "      <td>2022</td>\n",
       "      <td>Pengeluaran Riil per Kapita (yang disesuaikan)</td>\n",
       "      <td>NaN</td>\n",
       "    </tr>\n",
       "    <tr>\n",
       "      <th>16</th>\n",
       "      <td>2023</td>\n",
       "      <td>Umur Harapan Hidup saat Lahir (UHH)</td>\n",
       "      <td>74.99</td>\n",
       "    </tr>\n",
       "    <tr>\n",
       "      <th>17</th>\n",
       "      <td>2023</td>\n",
       "      <td>Harapan Lama Sekolah (HLS)</td>\n",
       "      <td>13.34</td>\n",
       "    </tr>\n",
       "    <tr>\n",
       "      <th>18</th>\n",
       "      <td>2023</td>\n",
       "      <td>Rata-rata Lama Sekolah (RLS)</td>\n",
       "      <td>8.66</td>\n",
       "    </tr>\n",
       "    <tr>\n",
       "      <th>19</th>\n",
       "      <td>2023</td>\n",
       "      <td>Pengeluaran Riil per Kapita (yang disesuaikan)</td>\n",
       "      <td>NaN</td>\n",
       "    </tr>\n",
       "    <tr>\n",
       "      <th>20</th>\n",
       "      <td>2024</td>\n",
       "      <td>Umur Harapan Hidup saat Lahir (UHH)</td>\n",
       "      <td>75.20</td>\n",
       "    </tr>\n",
       "    <tr>\n",
       "      <th>21</th>\n",
       "      <td>2024</td>\n",
       "      <td>Harapan Lama Sekolah (HLS)</td>\n",
       "      <td>13.36</td>\n",
       "    </tr>\n",
       "    <tr>\n",
       "      <th>22</th>\n",
       "      <td>2024</td>\n",
       "      <td>Rata-rata Lama Sekolah (RLS)</td>\n",
       "      <td>8.68</td>\n",
       "    </tr>\n",
       "    <tr>\n",
       "      <th>23</th>\n",
       "      <td>2024</td>\n",
       "      <td>Pengeluaran Riil per Kapita (yang disesuaikan)</td>\n",
       "      <td>NaN</td>\n",
       "    </tr>\n",
       "  </tbody>\n",
       "</table>\n",
       "</div>"
      ],
      "text/plain": [
       "   Tahun                                       Indikator  Nilai\n",
       "0   2019             Umur Harapan Hidup saat Lahir (UHH)  73.95\n",
       "1   2019                      Harapan Lama Sekolah (HLS)  13.15\n",
       "2   2019                    Rata-rata Lama Sekolah (RLS)   8.07\n",
       "3   2019  Pengeluaran Riil per Kapita (yang disesuaikan)    NaN\n",
       "4   2020             Umur Harapan Hidup saat Lahir (UHH)  74.08\n",
       "5   2020                      Harapan Lama Sekolah (HLS)  13.31\n",
       "6   2020                    Rata-rata Lama Sekolah (RLS)   8.33\n",
       "7   2020  Pengeluaran Riil per Kapita (yang disesuaikan)    NaN\n",
       "8   2021             Umur Harapan Hidup saat Lahir (UHH)  74.16\n",
       "9   2021                      Harapan Lama Sekolah (HLS)  13.32\n",
       "10  2021                    Rata-rata Lama Sekolah (RLS)   8.34\n",
       "11  2021  Pengeluaran Riil per Kapita (yang disesuaikan)    NaN\n",
       "12  2022             Umur Harapan Hidup saat Lahir (UHH)  74.54\n",
       "13  2022                      Harapan Lama Sekolah (HLS)  13.33\n",
       "14  2022                    Rata-rata Lama Sekolah (RLS)   8.65\n",
       "15  2022  Pengeluaran Riil per Kapita (yang disesuaikan)    NaN\n",
       "16  2023             Umur Harapan Hidup saat Lahir (UHH)  74.99\n",
       "17  2023                      Harapan Lama Sekolah (HLS)  13.34\n",
       "18  2023                    Rata-rata Lama Sekolah (RLS)   8.66\n",
       "19  2023  Pengeluaran Riil per Kapita (yang disesuaikan)    NaN\n",
       "20  2024             Umur Harapan Hidup saat Lahir (UHH)  75.20\n",
       "21  2024                      Harapan Lama Sekolah (HLS)  13.36\n",
       "22  2024                    Rata-rata Lama Sekolah (RLS)   8.68\n",
       "23  2024  Pengeluaran Riil per Kapita (yang disesuaikan)    NaN"
      ]
     },
     "execution_count": 7,
     "metadata": {},
     "output_type": "execute_result"
    }
   ],
   "source": [
    "df_bersih"
   ]
  },
  {
   "cell_type": "markdown",
   "id": "1ae5938e",
   "metadata": {},
   "source": [
    "**Kemiskinan**\n",
    "\n",
    "- **Dataset yang digunakan dalam aspek ini antara lain :**\n",
    "1. Garis Kemiskinan dan Persentase\n",
    "2. Indeks dalam dan keparahan kemiskinan\n"
   ]
  },
  {
   "cell_type": "code",
   "execution_count": 3,
   "id": "e3818bdc",
   "metadata": {},
   "outputs": [
    {
     "data": {
      "application/vnd.microsoft.datawrangler.viewer.v0+json": {
       "columns": [
        {
         "name": "index",
         "rawType": "int64",
         "type": "integer"
        },
        {
         "name": "Tahun",
         "rawType": "int64",
         "type": "integer"
        },
        {
         "name": "Garis Kemiskinan(rupiah/kapita/bulan)",
         "rawType": "float64",
         "type": "float"
        },
        {
         "name": "Jumlah Penduduk Miskin(ribu)",
         "rawType": "object",
         "type": "unknown"
        },
        {
         "name": "Persentase Penduduk Miskin",
         "rawType": "float64",
         "type": "float"
        }
       ],
       "ref": "d7a7ac27-5f35-4482-8e43-0c99eae8a194",
       "rows": [
        [
         "0",
         "2014",
         "277.707",
         "89,00",
         "8.75"
        ],
        [
         "1",
         "2015",
         "292.483",
         "87.37",
         "8.57"
        ],
        [
         "2",
         "2016",
         "304.518",
         "84.35",
         "8.23"
        ],
        [
         "3",
         "2017",
         "314.532",
         "82.8",
         "8.04"
        ],
        [
         "4",
         "2018",
         "328.64",
         "75.23",
         "7.27"
        ],
        [
         "5",
         "2019",
         "341.651",
         "70.01",
         "6.74"
        ],
        [
         "6",
         "2020",
         "362.213",
         "76.4",
         "7.33"
        ],
        [
         "7",
         "2021",
         "374.183",
         "78.59",
         "7.51"
        ],
        [
         "8",
         "2022",
         "391.888",
         "70.52",
         "6.71"
        ],
        [
         "9",
         "2023",
         "423.875",
         "68.81",
         "6.53"
        ]
       ],
       "shape": {
        "columns": 4,
        "rows": 10
       }
      },
      "text/html": [
       "<div>\n",
       "<style scoped>\n",
       "    .dataframe tbody tr th:only-of-type {\n",
       "        vertical-align: middle;\n",
       "    }\n",
       "\n",
       "    .dataframe tbody tr th {\n",
       "        vertical-align: top;\n",
       "    }\n",
       "\n",
       "    .dataframe thead th {\n",
       "        text-align: right;\n",
       "    }\n",
       "</style>\n",
       "<table border=\"1\" class=\"dataframe\">\n",
       "  <thead>\n",
       "    <tr style=\"text-align: right;\">\n",
       "      <th></th>\n",
       "      <th>Tahun</th>\n",
       "      <th>Garis Kemiskinan(rupiah/kapita/bulan)</th>\n",
       "      <th>Jumlah Penduduk Miskin(ribu)</th>\n",
       "      <th>Persentase Penduduk Miskin</th>\n",
       "    </tr>\n",
       "  </thead>\n",
       "  <tbody>\n",
       "    <tr>\n",
       "      <th>0</th>\n",
       "      <td>2014</td>\n",
       "      <td>277.707</td>\n",
       "      <td>89,00</td>\n",
       "      <td>8.75</td>\n",
       "    </tr>\n",
       "    <tr>\n",
       "      <th>1</th>\n",
       "      <td>2015</td>\n",
       "      <td>292.483</td>\n",
       "      <td>87.37</td>\n",
       "      <td>8.57</td>\n",
       "    </tr>\n",
       "    <tr>\n",
       "      <th>2</th>\n",
       "      <td>2016</td>\n",
       "      <td>304.518</td>\n",
       "      <td>84.35</td>\n",
       "      <td>8.23</td>\n",
       "    </tr>\n",
       "    <tr>\n",
       "      <th>3</th>\n",
       "      <td>2017</td>\n",
       "      <td>314.532</td>\n",
       "      <td>82.8</td>\n",
       "      <td>8.04</td>\n",
       "    </tr>\n",
       "    <tr>\n",
       "      <th>4</th>\n",
       "      <td>2018</td>\n",
       "      <td>328.640</td>\n",
       "      <td>75.23</td>\n",
       "      <td>7.27</td>\n",
       "    </tr>\n",
       "    <tr>\n",
       "      <th>5</th>\n",
       "      <td>2019</td>\n",
       "      <td>341.651</td>\n",
       "      <td>70.01</td>\n",
       "      <td>6.74</td>\n",
       "    </tr>\n",
       "    <tr>\n",
       "      <th>6</th>\n",
       "      <td>2020</td>\n",
       "      <td>362.213</td>\n",
       "      <td>76.4</td>\n",
       "      <td>7.33</td>\n",
       "    </tr>\n",
       "    <tr>\n",
       "      <th>7</th>\n",
       "      <td>2021</td>\n",
       "      <td>374.183</td>\n",
       "      <td>78.59</td>\n",
       "      <td>7.51</td>\n",
       "    </tr>\n",
       "    <tr>\n",
       "      <th>8</th>\n",
       "      <td>2022</td>\n",
       "      <td>391.888</td>\n",
       "      <td>70.52</td>\n",
       "      <td>6.71</td>\n",
       "    </tr>\n",
       "    <tr>\n",
       "      <th>9</th>\n",
       "      <td>2023</td>\n",
       "      <td>423.875</td>\n",
       "      <td>68.81</td>\n",
       "      <td>6.53</td>\n",
       "    </tr>\n",
       "  </tbody>\n",
       "</table>\n",
       "</div>"
      ],
      "text/plain": [
       "   Tahun  Garis Kemiskinan(rupiah/kapita/bulan) Jumlah Penduduk Miskin(ribu)  \\\n",
       "0   2014                                277.707                        89,00   \n",
       "1   2015                                292.483                        87.37   \n",
       "2   2016                                304.518                        84.35   \n",
       "3   2017                                314.532                         82.8   \n",
       "4   2018                                328.640                        75.23   \n",
       "5   2019                                341.651                        70.01   \n",
       "6   2020                                362.213                         76.4   \n",
       "7   2021                                374.183                        78.59   \n",
       "8   2022                                391.888                        70.52   \n",
       "9   2023                                423.875                        68.81   \n",
       "\n",
       "   Persentase Penduduk Miskin  \n",
       "0                        8.75  \n",
       "1                        8.57  \n",
       "2                        8.23  \n",
       "3                        8.04  \n",
       "4                        7.27  \n",
       "5                        6.74  \n",
       "6                        7.33  \n",
       "7                        7.51  \n",
       "8                        6.71  \n",
       "9                        6.53  "
      ]
     },
     "execution_count": 3,
     "metadata": {},
     "output_type": "execute_result"
    }
   ],
   "source": [
    "df_gkp = pd.read_excel(\"Dashboard Interaktif/Dataset/KEMISKINAN/Garis kemiskinan dan persentase.xlsx\")\n",
    "df_gkp = pd.read_excel(\"Dashboard Interaktif/Dataset/KEMISKINAN/Garis kemiskinan dan persentase.xlsx\", sheet_name=\"Sheet1\")\n",
    "df_gkp"
   ]
  },
  {
   "cell_type": "markdown",
   "id": "46d2cc85",
   "metadata": {},
   "source": [
    "### **Data Indeks Dalam dan Keparahan Kemiskinan**"
   ]
  },
  {
   "cell_type": "code",
   "execution_count": 9,
   "id": "decfdfda",
   "metadata": {},
   "outputs": [
    {
     "data": {
      "application/vnd.microsoft.datawrangler.viewer.v0+json": {
       "columns": [
        {
         "name": "index",
         "rawType": "int64",
         "type": "integer"
        },
        {
         "name": "Tahun",
         "rawType": "int64",
         "type": "integer"
        },
        {
         "name": "Indeks Dalam Kemiskinan",
         "rawType": "float64",
         "type": "float"
        },
        {
         "name": "Indeks Keparahan Kemiskinan",
         "rawType": "float64",
         "type": "float"
        }
       ],
       "ref": "951b3325-61e7-4afc-b4ac-2ebb86612457",
       "rows": [
        [
         "0",
         "2014",
         "1.11",
         "0.24"
        ],
        [
         "1",
         "2015",
         "1.27",
         "0.3"
        ],
        [
         "2",
         "2016",
         "0.98",
         "0.18"
        ],
        [
         "3",
         "2017",
         "0.82",
         "0.16"
        ],
        [
         "4",
         "2018",
         "0.98",
         "0.21"
        ],
        [
         "5",
         "2019",
         "0.84",
         "0.17"
        ],
        [
         "6",
         "2020",
         "0.72",
         "0.11"
        ],
        [
         "7",
         "2021",
         "0.93",
         "0.17"
        ],
        [
         "8",
         "2022",
         "0.66",
         "0.09"
        ],
        [
         "9",
         "2023",
         "0.94",
         "0.17"
        ]
       ],
       "shape": {
        "columns": 3,
        "rows": 10
       }
      },
      "text/html": [
       "<div>\n",
       "<style scoped>\n",
       "    .dataframe tbody tr th:only-of-type {\n",
       "        vertical-align: middle;\n",
       "    }\n",
       "\n",
       "    .dataframe tbody tr th {\n",
       "        vertical-align: top;\n",
       "    }\n",
       "\n",
       "    .dataframe thead th {\n",
       "        text-align: right;\n",
       "    }\n",
       "</style>\n",
       "<table border=\"1\" class=\"dataframe\">\n",
       "  <thead>\n",
       "    <tr style=\"text-align: right;\">\n",
       "      <th></th>\n",
       "      <th>Tahun</th>\n",
       "      <th>Indeks Dalam Kemiskinan</th>\n",
       "      <th>Indeks Keparahan Kemiskinan</th>\n",
       "    </tr>\n",
       "  </thead>\n",
       "  <tbody>\n",
       "    <tr>\n",
       "      <th>0</th>\n",
       "      <td>2014</td>\n",
       "      <td>1.11</td>\n",
       "      <td>0.24</td>\n",
       "    </tr>\n",
       "    <tr>\n",
       "      <th>1</th>\n",
       "      <td>2015</td>\n",
       "      <td>1.27</td>\n",
       "      <td>0.30</td>\n",
       "    </tr>\n",
       "    <tr>\n",
       "      <th>2</th>\n",
       "      <td>2016</td>\n",
       "      <td>0.98</td>\n",
       "      <td>0.18</td>\n",
       "    </tr>\n",
       "    <tr>\n",
       "      <th>3</th>\n",
       "      <td>2017</td>\n",
       "      <td>0.82</td>\n",
       "      <td>0.16</td>\n",
       "    </tr>\n",
       "    <tr>\n",
       "      <th>4</th>\n",
       "      <td>2018</td>\n",
       "      <td>0.98</td>\n",
       "      <td>0.21</td>\n",
       "    </tr>\n",
       "    <tr>\n",
       "      <th>5</th>\n",
       "      <td>2019</td>\n",
       "      <td>0.84</td>\n",
       "      <td>0.17</td>\n",
       "    </tr>\n",
       "    <tr>\n",
       "      <th>6</th>\n",
       "      <td>2020</td>\n",
       "      <td>0.72</td>\n",
       "      <td>0.11</td>\n",
       "    </tr>\n",
       "    <tr>\n",
       "      <th>7</th>\n",
       "      <td>2021</td>\n",
       "      <td>0.93</td>\n",
       "      <td>0.17</td>\n",
       "    </tr>\n",
       "    <tr>\n",
       "      <th>8</th>\n",
       "      <td>2022</td>\n",
       "      <td>0.66</td>\n",
       "      <td>0.09</td>\n",
       "    </tr>\n",
       "    <tr>\n",
       "      <th>9</th>\n",
       "      <td>2023</td>\n",
       "      <td>0.94</td>\n",
       "      <td>0.17</td>\n",
       "    </tr>\n",
       "  </tbody>\n",
       "</table>\n",
       "</div>"
      ],
      "text/plain": [
       "   Tahun  Indeks Dalam Kemiskinan  Indeks Keparahan Kemiskinan\n",
       "0   2014                     1.11                         0.24\n",
       "1   2015                     1.27                         0.30\n",
       "2   2016                     0.98                         0.18\n",
       "3   2017                     0.82                         0.16\n",
       "4   2018                     0.98                         0.21\n",
       "5   2019                     0.84                         0.17\n",
       "6   2020                     0.72                         0.11\n",
       "7   2021                     0.93                         0.17\n",
       "8   2022                     0.66                         0.09\n",
       "9   2023                     0.94                         0.17"
      ]
     },
     "execution_count": 9,
     "metadata": {},
     "output_type": "execute_result"
    }
   ],
   "source": [
    "df_idkm = pd.read_excel(\"Dashboard Interaktif/Dataset/KEMISKINAN/Indeks dalam dan keparahan kemiskinan.xlsx\")\n",
    "df_idkm = pd.read_excel(\"Dashboard Interaktif/Dataset/KEMISKINAN/Indeks dalam dan keparahan kemiskinan.xlsx\", sheet_name= \"Sheet1\")\n",
    "df_idkm"
   ]
  },
  {
   "cell_type": "markdown",
   "id": "ae809a62",
   "metadata": {},
   "source": [
    "### **Kependudukan**\n",
    "\n",
    "- **Dataset yang digunakan dalam aspek ini antara lain :**\n",
    "1. Jumlah penduduk menurut kecamatan dan agama 2019-2023\n",
    "2. Jumlah penduduk 2016-2020 (Akan diprediksi)\n",
    "3. Penduduk, laju pertumbuhan penduduk, distribusi persentase\n"
   ]
  },
  {
   "cell_type": "code",
   "execution_count": 28,
   "id": "0cfb8e5b",
   "metadata": {},
   "outputs": [
    {
     "name": "stdout",
     "output_type": "stream",
     "text": [
      "['Jumlah Penduduk, 2016.xlsx', 'Jumlah Penduduk, 2017.xlsx', 'Jumlah Penduduk, 2018.xlsx', 'Jumlah Penduduk, 2019.xlsx', 'Jumlah Penduduk, 2020.xlsx']\n"
     ]
    }
   ],
   "source": [
    "folder_penduduk = \"Dashboard Interaktif/Dataset/KEPENDUDUKAN/fix penduduk/Jumlah penduduk\"\n",
    "files = sorted([f for f in os.listdir(folder_penduduk) if f.endswith('.xlsx')])\n",
    "df_penduduk = pd.DataFrame()\n",
    "print(os.listdir(folder_penduduk))"
   ]
  },
  {
   "cell_type": "code",
   "execution_count": null,
   "id": "914dcd01",
   "metadata": {},
   "outputs": [],
   "source": [
    "for file in files:\n",
    "    print(\"Membaca:\", file)\n",
    "    if file.endswith(\".xlsx\") or file.endswith(\".xls\"):\n",
    "        full_path = os.path.join(folder_penduduk, file)\n",
    "        df = pd.read_excel(full_path)\n",
    "        print(df.head()) "
   ]
  },
  {
   "cell_type": "code",
   "execution_count": 30,
   "id": "2c3b9412",
   "metadata": {},
   "outputs": [],
   "source": [
    "for file in files :\n",
    "    tahun = ''.join(filter(str.isdigit, file))[:4]\n",
    "    #read main sheet\n",
    "    path = os.path.join(folder_penduduk, file)\n",
    "    df_penduduk_all = pd.read_excel(path)\n",
    "    #rename coloumn and rows\n",
    "    df_penduduk_all.columns = ['Kecamatan', 'Laki-laki', 'Perempuan', 'Jumlah']\n",
    "    df_penduduk_all['Tahun'] = int(tahun)\n",
    "    df_penduduk = pd.concat(([df_penduduk, df_penduduk_all]), ignore_index = True)\n"
   ]
  },
  {
   "cell_type": "code",
   "execution_count": null,
   "id": "8f405d0e",
   "metadata": {},
   "outputs": [],
   "source": [
    "# hapus baris yang berisi kata tahun, kecamatan dan jumlah penduduk\n",
    "df_penduduk = df_penduduk[~df_penduduk.apply(\n",
    "    lambda row: row.astype(str).str.contains(\"Tahun\", case=False).any() \n",
    "                or row.astype(str).str.contains(\"Jumlah Penduduk\", case=False).any()\n",
    "                or row.astype(str).str.contains(\"Kecamatan\", case=False).any(), \n",
    "    axis=1\n",
    ")]\n",
    "\n",
    "df_penduduk"
   ]
  },
  {
   "cell_type": "code",
   "execution_count": 42,
   "id": "748b44e0",
   "metadata": {},
   "outputs": [],
   "source": [
    "df_penduduk.to_csv(\"Dashboard Interaktif/Data Clean/penduduk_2016-2020_clean.csv\", index=False)"
   ]
  },
  {
   "cell_type": "markdown",
   "id": "5028264c",
   "metadata": {},
   "source": [
    "**Jumlah Penduduk Menurut Agama**"
   ]
  },
  {
   "cell_type": "code",
   "execution_count": 11,
   "id": "a54e41ee",
   "metadata": {},
   "outputs": [
    {
     "name": "stdout",
     "output_type": "stream",
     "text": [
      "['Jumlah penduduk menurut agama 2019.xlsx', 'Jumlah penduduk menurut agama 2020.xlsx', 'Jumlah penduduk menurut agama 2022.xlsx', 'Jumlah penduduk menurut agama 2023.xlsx']\n"
     ]
    }
   ],
   "source": [
    "folder_penduduk_agama = \"Dashboard Interaktif/Dataset/KEPENDUDUKAN/fix penduduk/Jumlah penduduk agama\"\n",
    "files = sorted([f for f in os.listdir(folder_penduduk_agama) if f.endswith('.xlsx')])\n",
    "df_agama = pd.DataFrame()\n",
    "print(os.listdir(folder_penduduk_agama))"
   ]
  },
  {
   "cell_type": "code",
   "execution_count": 12,
   "id": "92fb970f",
   "metadata": {},
   "outputs": [],
   "source": [
    "for file in files :\n",
    "    tahun = ''.join(filter(str.isdigit, file))[:4]\n",
    "    #read main sheet\n",
    "    path = os.path.join(folder_penduduk_agama, file)\n",
    "    df_penduduk_all = pd.read_excel(path)\n",
    "    df_penduduk_all = df_penduduk_all.iloc[:, :7]\n",
    "    #rename coloumn and rows\n",
    "    df_penduduk_all.columns = [\"Kecamatan\", \"Islam\", \"Protestan\", \"Katolik\", \"Hindu\", \"Budha\" , \"Lainnya\"]\n",
    "    df_penduduk_all['Tahun'] = int(tahun)\n",
    "    df_agama = pd.concat(([df_agama, df_penduduk_all]), ignore_index = True)\n"
   ]
  },
  {
   "cell_type": "code",
   "execution_count": null,
   "id": "b755a520",
   "metadata": {},
   "outputs": [],
   "source": [
    "# hapus baris \n",
    "df_agama = df_agama[~df_agama.apply(\n",
    "    lambda row: row.astype(str).str.contains(\"Kecamatan\", case=False).any() \n",
    "                or row.astype(str).str.contains(\"Lainnya\", case=False).any(),\n",
    "    axis=1\n",
    ")]\n",
    "\n",
    "df_agama"
   ]
  },
  {
   "cell_type": "code",
   "execution_count": 17,
   "id": "2cfc586f",
   "metadata": {},
   "outputs": [],
   "source": [
    "df_agama.to_csv(\"Dashboard Interaktif/Data Clean/penduduk_agama_2019-2023.csv\", index= False)"
   ]
  },
  {
   "cell_type": "markdown",
   "id": "ff1522d0",
   "metadata": {},
   "source": [
    "**Laju Pertumbuhan pendudukan dan Distribusi Persentase**"
   ]
  },
  {
   "cell_type": "code",
   "execution_count": 18,
   "id": "fd1e8701",
   "metadata": {},
   "outputs": [
    {
     "name": "stdout",
     "output_type": "stream",
     "text": [
      "['Berbagai faktor penduduk 2018.xlsx', 'Berbagai faktor penduduk 2019.xlsx', 'Berbagai faktor penduduk 2020.xlsx', 'Berbagai faktor penduduk 2021.xlsx', 'Berbagai faktor penduduk 2023.xlsx']\n"
     ]
    }
   ],
   "source": [
    "folder_faktor_penduduk = \"Dashboard Interaktif/Dataset/KEPENDUDUKAN/fix penduduk/Laju pertumbuhan penduduk dan Distribusi\"\n",
    "files = sorted([f for f in os.listdir(folder_faktor_penduduk) if f.endswith('.xlsx')])\n",
    "df_fp = pd.DataFrame()\n",
    "print(os.listdir(folder_faktor_penduduk))"
   ]
  },
  {
   "cell_type": "code",
   "execution_count": 19,
   "id": "27dd3e8d",
   "metadata": {},
   "outputs": [],
   "source": [
    "for file in files :\n",
    "    tahun = ''.join(filter(str.isdigit, file))[:4]\n",
    "    #read main sheet\n",
    "    path = os.path.join(folder_faktor_penduduk, file)\n",
    "    df_penduduk_all = pd.read_excel(path)\n",
    "    df_penduduk_all = df_penduduk_all.iloc[:, :7]\n",
    "    #rename coloumn and rows\n",
    "    df_penduduk_all.columns = [\"Kecamatan\", \"Jumlah Penduduk (Ribu)\", \"Laju Pertumbuhan Penduduk per Tahun\", \"Persentase Penduduk\", \"Kepadatan Penduduk per km persegi (Km2)\", \n",
    "                               \"Rasio Jenis Kelamin Penduduk\"]\n",
    "    df_penduduk_all['Tahun'] = int(tahun)\n",
    "    df_fp = pd.concat(([df_fp, df_penduduk_all]), ignore_index = True)\n"
   ]
  },
  {
   "cell_type": "code",
   "execution_count": 20,
   "id": "a1dfa625",
   "metadata": {},
   "outputs": [
    {
     "data": {
      "application/vnd.microsoft.datawrangler.viewer.v0+json": {
       "columns": [
        {
         "name": "index",
         "rawType": "int64",
         "type": "integer"
        },
        {
         "name": "Kecamatan",
         "rawType": "object",
         "type": "string"
        },
        {
         "name": "Jumlah Penduduk (Ribu)",
         "rawType": "float64",
         "type": "float"
        },
        {
         "name": "Laju Pertumbuhan Penduduk per Tahun",
         "rawType": "float64",
         "type": "float"
        },
        {
         "name": "Persentase Penduduk",
         "rawType": "float64",
         "type": "float"
        },
        {
         "name": "Kepadatan Penduduk per km persegi (Km2)",
         "rawType": "float64",
         "type": "float"
        },
        {
         "name": "Rasio Jenis Kelamin Penduduk",
         "rawType": "float64",
         "type": "float"
        },
        {
         "name": "Tahun",
         "rawType": "int64",
         "type": "integer"
        }
       ],
       "ref": "875873b8-1cb8-4d82-90b4-432e559f0359",
       "rows": [
        [
         "0",
         "Besuki",
         "35319.0",
         "0.42",
         "3.41",
         "430.0",
         "1.0",
         "2018"
        ],
        [
         "1",
         "Bandung",
         "43595.0",
         "0.33",
         "4.21",
         "1039.0",
         "0.9",
         "2018"
        ],
        [
         "2",
         "Pakel",
         "50761.0",
         "0.6",
         "4.9",
         "1408.0",
         "0.9",
         "2018"
        ],
        [
         "3",
         "Campur Darat",
         "57768.0",
         "0.75",
         "5.58",
         "1460.0",
         "1.0",
         "2018"
        ],
        [
         "4",
         "Tanggung Gunung",
         "24777.0",
         "0.61",
         "2.39",
         "210.0",
         "0.9",
         "2018"
        ],
        [
         "5",
         "Kalidawir",
         "64489.0",
         "0.15",
         "6.23",
         "659.0",
         "0.9",
         "2018"
        ],
        [
         "6",
         "Pucang Laban",
         "22282.0",
         "0.18",
         "2.15",
         "269.0",
         "0.9",
         "2018"
        ],
        [
         "7",
         "Rejotangan",
         "73870.0",
         "0.51",
         "7.14",
         "1111.0",
         "0.9",
         "2018"
        ],
        [
         "8",
         "Ngunut",
         "79072.0",
         "0.55",
         "7.64",
         "2097.0",
         "0.9",
         "2018"
        ],
        [
         "9",
         "Sumbergempol",
         "67462.0",
         "0.58",
         "6.52",
         "1717.0",
         "0.9",
         "2018"
        ],
        [
         "10",
         "Boyolangu",
         "83247.0",
         "0.88",
         "8.04",
         "2166.0",
         "1.0",
         "2018"
        ],
        [
         "11",
         "Tulungagung",
         "66268.0",
         "0.18",
         "6.6",
         "2848.0",
         "0.9",
         "2018"
        ],
        [
         "12",
         "Kedungwaru",
         "90942.0",
         "0.65",
         "8.78",
         "3058.0",
         "1.0",
         "2018"
        ],
        [
         "13",
         "Ngantru",
         "56042.0",
         "0.72",
         "5.41",
         "1513.0",
         "1.0",
         "2018"
        ],
        [
         "14",
         "Karangrejo",
         "39747.0",
         "0.18",
         "3.84",
         "1118.0",
         "1.0",
         "2018"
        ],
        [
         "15",
         "Kauman",
         "49957.0",
         "0.18",
         "4.83",
         "1620.0",
         "1.0",
         "2018"
        ],
        [
         "16",
         "Gondang",
         "54625.0",
         "0.12",
         "5.28",
         "1241.0",
         "1.0",
         "2018"
        ],
        [
         "17",
         "Pager Wojo",
         "30634.0",
         "0.21",
         "2.96",
         "347.0",
         "1.0",
         "2018"
        ],
        [
         "18",
         "Sendang",
         "44433.0",
         "0.27",
         "4.29",
         "461.0",
         "1.0",
         "2018"
        ],
        [
         "19",
         "Tulungagung",
         "1035290.0",
         "0.46",
         "100.0",
         "981.0",
         "1.0",
         "2018"
        ],
        [
         "20",
         "Besuki",
         "39.2",
         "0.54",
         "3.51",
         "477.0",
         "101.1",
         "2019"
        ],
        [
         "21",
         "Bandung",
         "49.1",
         "0.37",
         "4.39",
         "1171.0",
         "99.2",
         "2019"
        ],
        [
         "22",
         "Pakel",
         "55.8",
         "0.99",
         "4.99",
         "1547.0",
         "98.9",
         "2019"
        ],
        [
         "23",
         "Campur Darat",
         "59.4",
         "0.68",
         "5.31",
         "1502.0",
         "101.2",
         "2019"
        ],
        [
         "24",
         "Tanggung Gunung",
         "26.4",
         "0.98",
         "2.36",
         "224.0",
         "99.6",
         "2019"
        ],
        [
         "25",
         "Kalidawir",
         "76.7",
         "0.78",
         "6.85",
         "784.0",
         "98.8",
         "2019"
        ],
        [
         "26",
         "Pucang Laban",
         "25.9",
         "1.33",
         "2.32",
         "313.0",
         "98.3",
         "2019"
        ],
        [
         "27",
         "Rejotangan",
         "82.0",
         "0.76",
         "7.33",
         "1233.0",
         "100.8",
         "2019"
        ],
        [
         "28",
         "Ngunut",
         "84.4",
         "-0.06",
         "7.55",
         "2240.0",
         "100.3",
         "2019"
        ],
        [
         "29",
         "Sumbergempol",
         "74.2",
         "0.99",
         "6.63",
         "1889.0",
         "100.7",
         "2019"
        ],
        [
         "30",
         "Boyolangu",
         "85.5",
         "1.02",
         "7.64",
         "2224.0",
         "100.6",
         "2019"
        ],
        [
         "31",
         "Tulungagung",
         "67.5",
         "-0.13",
         "6.03",
         "4939.0",
         "97.4",
         "2019"
        ],
        [
         "32",
         "Kedungwaru",
         "94.0",
         "0.92",
         "8.4",
         "3160.0",
         "100.8",
         "2019"
        ],
        [
         "33",
         "Ngantru",
         "58.4",
         "0.78",
         "5.22",
         "1577.0",
         "100.3",
         "2019"
        ],
        [
         "34",
         "Karangrejo",
         "45.0",
         "0.26",
         "4.02",
         "1266.0",
         "99.7",
         "2019"
        ],
        [
         "35",
         "Kauman",
         "53.9",
         "0.71",
         "4.82",
         "1749.0",
         "100.0",
         "2019"
        ],
        [
         "36",
         "Gondang",
         "61.4",
         "0.68",
         "5.49",
         "1396.0",
         "99.2",
         "2019"
        ],
        [
         "37",
         "Pager Wojo",
         "32.2",
         "1.38",
         "2.88",
         "365.0",
         "101.0",
         "2019"
        ],
        [
         "38",
         "Sendang",
         "47.8",
         "1.33",
         "4.27",
         "495.0",
         "100.3",
         "2019"
        ],
        [
         "39",
         "Tulungagung",
         "1118.8",
         "0.71",
         "100.0",
         "1060.0",
         "100.0",
         "2019"
        ],
        [
         "40",
         "Besuki",
         "38.1",
         "1.14",
         "3.5",
         "464.0",
         "99.8",
         "2020"
        ],
        [
         "41",
         "Bandung",
         "47.8",
         "1.2",
         "4.38",
         "1138.0",
         "98.9",
         "2020"
        ],
        [
         "42",
         "Pakel",
         "53.2",
         "1.02",
         "4.88",
         "1474.0",
         "98.9",
         "2020"
        ],
        [
         "43",
         "Campur Darat",
         "57.4",
         "0.64",
         "5.27",
         "1452.0",
         "102.1",
         "2020"
        ],
        [
         "44",
         "Tanggung Gunung",
         "25.8",
         "0.97",
         "2.37",
         "219.0",
         "100.1",
         "2020"
        ],
        [
         "45",
         "Kalidawir",
         "74.3",
         "1.53",
         "6.82",
         "760.0",
         "99.6",
         "2020"
        ],
        [
         "46",
         "Pucang Laban",
         "25.8",
         "1.61",
         "2.37",
         "311.0",
         "100.1",
         "2020"
        ],
        [
         "47",
         "Rejotangan",
         "80.4",
         "1.32",
         "7.38",
         "1210.0",
         "100.8",
         "2020"
        ],
        [
         "48",
         "Ngunut",
         "82.6",
         "0.95",
         "7.58",
         "2191.0",
         "100.8",
         "2020"
        ],
        [
         "49",
         "Sumbergempol",
         "71.2",
         "1.07",
         "6.53",
         "1812.0",
         "101.0",
         "2020"
        ]
       ],
       "shape": {
        "columns": 7,
        "rows": 100
       }
      },
      "text/html": [
       "<div>\n",
       "<style scoped>\n",
       "    .dataframe tbody tr th:only-of-type {\n",
       "        vertical-align: middle;\n",
       "    }\n",
       "\n",
       "    .dataframe tbody tr th {\n",
       "        vertical-align: top;\n",
       "    }\n",
       "\n",
       "    .dataframe thead th {\n",
       "        text-align: right;\n",
       "    }\n",
       "</style>\n",
       "<table border=\"1\" class=\"dataframe\">\n",
       "  <thead>\n",
       "    <tr style=\"text-align: right;\">\n",
       "      <th></th>\n",
       "      <th>Kecamatan</th>\n",
       "      <th>Jumlah Penduduk (Ribu)</th>\n",
       "      <th>Laju Pertumbuhan Penduduk per Tahun</th>\n",
       "      <th>Persentase Penduduk</th>\n",
       "      <th>Kepadatan Penduduk per km persegi (Km2)</th>\n",
       "      <th>Rasio Jenis Kelamin Penduduk</th>\n",
       "      <th>Tahun</th>\n",
       "    </tr>\n",
       "  </thead>\n",
       "  <tbody>\n",
       "    <tr>\n",
       "      <th>0</th>\n",
       "      <td>Besuki</td>\n",
       "      <td>35319.0</td>\n",
       "      <td>0.42</td>\n",
       "      <td>3.41</td>\n",
       "      <td>430.0</td>\n",
       "      <td>1.0</td>\n",
       "      <td>2018</td>\n",
       "    </tr>\n",
       "    <tr>\n",
       "      <th>1</th>\n",
       "      <td>Bandung</td>\n",
       "      <td>43595.0</td>\n",
       "      <td>0.33</td>\n",
       "      <td>4.21</td>\n",
       "      <td>1039.0</td>\n",
       "      <td>0.9</td>\n",
       "      <td>2018</td>\n",
       "    </tr>\n",
       "    <tr>\n",
       "      <th>2</th>\n",
       "      <td>Pakel</td>\n",
       "      <td>50761.0</td>\n",
       "      <td>0.60</td>\n",
       "      <td>4.90</td>\n",
       "      <td>1408.0</td>\n",
       "      <td>0.9</td>\n",
       "      <td>2018</td>\n",
       "    </tr>\n",
       "    <tr>\n",
       "      <th>3</th>\n",
       "      <td>Campur Darat</td>\n",
       "      <td>57768.0</td>\n",
       "      <td>0.75</td>\n",
       "      <td>5.58</td>\n",
       "      <td>1460.0</td>\n",
       "      <td>1.0</td>\n",
       "      <td>2018</td>\n",
       "    </tr>\n",
       "    <tr>\n",
       "      <th>4</th>\n",
       "      <td>Tanggung Gunung</td>\n",
       "      <td>24777.0</td>\n",
       "      <td>0.61</td>\n",
       "      <td>2.39</td>\n",
       "      <td>210.0</td>\n",
       "      <td>0.9</td>\n",
       "      <td>2018</td>\n",
       "    </tr>\n",
       "    <tr>\n",
       "      <th>...</th>\n",
       "      <td>...</td>\n",
       "      <td>...</td>\n",
       "      <td>...</td>\n",
       "      <td>...</td>\n",
       "      <td>...</td>\n",
       "      <td>...</td>\n",
       "      <td>...</td>\n",
       "    </tr>\n",
       "    <tr>\n",
       "      <th>95</th>\n",
       "      <td>Kauman</td>\n",
       "      <td>53.2</td>\n",
       "      <td>0.23</td>\n",
       "      <td>4.70</td>\n",
       "      <td>NaN</td>\n",
       "      <td>100.8</td>\n",
       "      <td>2023</td>\n",
       "    </tr>\n",
       "    <tr>\n",
       "      <th>96</th>\n",
       "      <td>Gondang</td>\n",
       "      <td>60.7</td>\n",
       "      <td>0.36</td>\n",
       "      <td>5.37</td>\n",
       "      <td>NaN</td>\n",
       "      <td>99.8</td>\n",
       "      <td>2023</td>\n",
       "    </tr>\n",
       "    <tr>\n",
       "      <th>97</th>\n",
       "      <td>Pager Wojo</td>\n",
       "      <td>33.2</td>\n",
       "      <td>0.34</td>\n",
       "      <td>2.93</td>\n",
       "      <td>NaN</td>\n",
       "      <td>101.1</td>\n",
       "      <td>2023</td>\n",
       "    </tr>\n",
       "    <tr>\n",
       "      <th>98</th>\n",
       "      <td>Sendang</td>\n",
       "      <td>49.5</td>\n",
       "      <td>0.39</td>\n",
       "      <td>4.38</td>\n",
       "      <td>NaN</td>\n",
       "      <td>100.6</td>\n",
       "      <td>2023</td>\n",
       "    </tr>\n",
       "    <tr>\n",
       "      <th>99</th>\n",
       "      <td>Tulungagung</td>\n",
       "      <td>1132.1</td>\n",
       "      <td>0.36</td>\n",
       "      <td>100.00</td>\n",
       "      <td>989.0</td>\n",
       "      <td>100.5</td>\n",
       "      <td>2023</td>\n",
       "    </tr>\n",
       "  </tbody>\n",
       "</table>\n",
       "<p>100 rows × 7 columns</p>\n",
       "</div>"
      ],
      "text/plain": [
       "          Kecamatan  Jumlah Penduduk (Ribu)  \\\n",
       "0            Besuki                 35319.0   \n",
       "1           Bandung                 43595.0   \n",
       "2             Pakel                 50761.0   \n",
       "3      Campur Darat                 57768.0   \n",
       "4   Tanggung Gunung                 24777.0   \n",
       "..              ...                     ...   \n",
       "95           Kauman                    53.2   \n",
       "96          Gondang                    60.7   \n",
       "97       Pager Wojo                    33.2   \n",
       "98          Sendang                    49.5   \n",
       "99      Tulungagung                  1132.1   \n",
       "\n",
       "    Laju Pertumbuhan Penduduk per Tahun  Persentase Penduduk  \\\n",
       "0                                  0.42                 3.41   \n",
       "1                                  0.33                 4.21   \n",
       "2                                  0.60                 4.90   \n",
       "3                                  0.75                 5.58   \n",
       "4                                  0.61                 2.39   \n",
       "..                                  ...                  ...   \n",
       "95                                 0.23                 4.70   \n",
       "96                                 0.36                 5.37   \n",
       "97                                 0.34                 2.93   \n",
       "98                                 0.39                 4.38   \n",
       "99                                 0.36               100.00   \n",
       "\n",
       "    Kepadatan Penduduk per km persegi (Km2)  Rasio Jenis Kelamin Penduduk  \\\n",
       "0                                     430.0                           1.0   \n",
       "1                                    1039.0                           0.9   \n",
       "2                                    1408.0                           0.9   \n",
       "3                                    1460.0                           1.0   \n",
       "4                                     210.0                           0.9   \n",
       "..                                      ...                           ...   \n",
       "95                                      NaN                         100.8   \n",
       "96                                      NaN                          99.8   \n",
       "97                                      NaN                         101.1   \n",
       "98                                      NaN                         100.6   \n",
       "99                                    989.0                         100.5   \n",
       "\n",
       "    Tahun  \n",
       "0    2018  \n",
       "1    2018  \n",
       "2    2018  \n",
       "3    2018  \n",
       "4    2018  \n",
       "..    ...  \n",
       "95   2023  \n",
       "96   2023  \n",
       "97   2023  \n",
       "98   2023  \n",
       "99   2023  \n",
       "\n",
       "[100 rows x 7 columns]"
      ]
     },
     "execution_count": 20,
     "metadata": {},
     "output_type": "execute_result"
    }
   ],
   "source": [
    "df_fp"
   ]
  },
  {
   "cell_type": "code",
   "execution_count": 21,
   "id": "4c5af901",
   "metadata": {},
   "outputs": [],
   "source": [
    "df_fp.to_csv(\"Dashboard Interaktif/Data Clean/faktor_penduduk_2018-2023.csv\", index = False)"
   ]
  },
  {
   "cell_type": "code",
   "execution_count": null,
   "id": "30374885",
   "metadata": {},
   "outputs": [],
   "source": []
  },
  {
   "cell_type": "markdown",
   "id": "d68f14dc",
   "metadata": {},
   "source": [
    "### **Kesehatan**\n",
    "\n",
    "- **Dataset yang digunakan dalam aspek ini antara lain :**\n",
    "1. Angka Harapan Hidup 2019-2023\n",
    "2. Jumlah fasilitas kesehatan 2021-2023\n",
    "3. Jumlah fasilitas rumah sakit dan lainnya 2018-2023"
   ]
  },
  {
   "cell_type": "markdown",
   "id": "ef27a979",
   "metadata": {},
   "source": [
    "***1. Angka Harapan Hidup 2019-2023***"
   ]
  },
  {
   "cell_type": "code",
   "execution_count": 30,
   "id": "b5b675bd",
   "metadata": {},
   "outputs": [
    {
     "name": "stdout",
     "output_type": "stream",
     "text": [
      "['Angka Harapan Hidup, 2019.xlsx', 'Angka Harapan Hidup, 2020.xlsx', 'Angka Harapan Hidup, 2021.xlsx', 'Angka Harapan Hidup, 2022.xlsx', 'Angka Harapan Hidup, 2023.xlsx']\n"
     ]
    }
   ],
   "source": [
    "folder_angka_harapan_hidup = \"Dashboard Interaktif/Dataset/KESEHATAN/fix kesehatan/Angka harapan hidup\"\n",
    "files = sorted([f for f in os.listdir(folder_angka_harapan_hidup) if f.endswith('.xlsx')])\n",
    "df_ahp = pd.DataFrame()\n",
    "print(os.listdir(folder_angka_harapan_hidup))"
   ]
  },
  {
   "cell_type": "code",
   "execution_count": 31,
   "id": "b308bd09",
   "metadata": {},
   "outputs": [],
   "source": [
    "for file in files :\n",
    "    tahun = ''.join(filter(str.isdigit, file))[:4]\n",
    "    #read main sheet\n",
    "    path = os.path.join(folder_angka_harapan_hidup, file)\n",
    "    df_kesehatan_all = pd.read_excel(path)\n",
    "    df_kesehatan_all = df_kesehatan_all.iloc[:, :2]\n",
    "    #rename coloumn and rows\n",
    "    df_kesehatan_all.columns = [\"Kabupaten/Kota Se Jawa Timur\", \"Angka Harapan Hidup (Tahun)\"]\n",
    "    df_kesehatan_all['Tahun'] = int(tahun)\n",
    "    df_ahp= pd.concat(([df_ahp, df_kesehatan_all]), ignore_index = True)\n"
   ]
  },
  {
   "cell_type": "code",
   "execution_count": 34,
   "id": "87955bff",
   "metadata": {},
   "outputs": [
    {
     "name": "stdout",
     "output_type": "stream",
     "text": [
      "    Kabupaten/Kota Se Jawa Timur Angka Harapan Hidup (Tahun)  Tahun  \\\n",
      "5          Kabupaten Tulungagung                       73.95   2019   \n",
      "46         Kabupaten Tulungagung                       74.08   2020   \n",
      "87         Kabupaten Tulungagung                       74.16   2021   \n",
      "128        Kabupaten Tulungagung                       74.54   2022   \n",
      "169        Kabupaten Tulungagung                       74.91   2023   \n",
      "\n",
      "            Kabupaten/Kota  \n",
      "5    kabupaten tulungagung  \n",
      "46   kabupaten tulungagung  \n",
      "87   kabupaten tulungagung  \n",
      "128  kabupaten tulungagung  \n",
      "169  kabupaten tulungagung  \n"
     ]
    }
   ],
   "source": [
    "# Bersihkan whitespace dan huruf kapital pada kolom nama daerah\n",
    "df_ahp['Kabupaten/Kota'] = df_ahp['Kabupaten/Kota Se Jawa Timur'].str.strip().str.lower()\n",
    "df_tulungagung = df_ahp[df_ahp['Kabupaten/Kota'].str.contains(\"tulungagung\")]\n",
    "print(df_tulungagung)"
   ]
  },
  {
   "cell_type": "code",
   "execution_count": 35,
   "id": "95a8adb7",
   "metadata": {},
   "outputs": [],
   "source": [
    "df_tulungagung.to_csv(\"Dashboard Interaktif/Data Clean/ahh_tulungagung_2019-2023.csv\", index = False)"
   ]
  },
  {
   "cell_type": "markdown",
   "id": "5eb3938f",
   "metadata": {},
   "source": [
    "***2. Jumlah Fasilitas dan Lainnya***"
   ]
  },
  {
   "cell_type": "code",
   "execution_count": 76,
   "id": "2725b728",
   "metadata": {},
   "outputs": [
    {
     "name": "stdout",
     "output_type": "stream",
     "text": [
      "['Jumlah fasilitas kesehatan dan lainnya 2020.xlsx', 'Jumlah fasilitas kesehatan dan lainnya 2021.xlsx', 'Jumlah fasilitas kesehatan dan lainnya 2022.xlsx', 'Jumlah fasilitas kesehatan dan lainnya 2023.xlsx']\n"
     ]
    }
   ],
   "source": [
    "folder_jumlah_fasilitas = \"Dashboard Interaktif/Dataset/KESEHATAN/fix kesehatan/Jumlah fasilitas dan lainnya\"\n",
    "files = sorted([f for f in os.listdir(folder_jumlah_fasilitas) if f.endswith('.xlsx')])\n",
    "df_jumlah_fasilitas = pd.DataFrame()\n",
    "print(os.listdir(folder_jumlah_fasilitas))"
   ]
  },
  {
   "cell_type": "code",
   "execution_count": 77,
   "id": "7cf4444a",
   "metadata": {},
   "outputs": [],
   "source": [
    "for file in files :\n",
    "    tahun = ''.join(filter(str.isdigit, file))[:4]\n",
    "    #read main sheet\n",
    "    path = os.path.join(folder_jumlah_fasilitas, file)\n",
    "    df_fasilitas_all = pd.read_excel(path)\n",
    "    df_fasilitas_all = df_fasilitas_all.iloc[:, :7]\n",
    "    #rename coloumn and rows\n",
    "    df_fasilitas_all.columns = [\"Kecamatan\", \"Jumlah Rumah Sakit Umum\", \"Jumlah Rumah Sakit Khusus\", \"Jumlah Puskesmas Rawat Inap\", \n",
    "                                \"Jumlah Puskesmas Non Rawat Inap\", \"Jumlah Klinik Pratama\",\t\"Jumlah Posyandu\"]\n",
    "    df_fasilitas_all['Tahun'] = int(tahun)\n",
    "    df_jumlah_fasilitas= pd.concat(([df_jumlah_fasilitas, df_fasilitas_all]), ignore_index = True)\n"
   ]
  },
  {
   "cell_type": "code",
   "execution_count": 81,
   "id": "ece61c52",
   "metadata": {},
   "outputs": [],
   "source": [
    "# # hapus baris yang berisi kata tahun, kecamatan dan jumlah penduduk\n",
    "# df_2021 = df.drop(columns=[\n",
    "#     col for col in df.columns \n",
    "#     if df[col].astype(str).str.contains(\"2022\", case=False, na=False).any()\n",
    "# ])\n"
   ]
  },
  {
   "cell_type": "markdown",
   "id": "f1af4340",
   "metadata": {},
   "source": [
    "### **Kesehatan**\n",
    "\n",
    "- **Dataset yang digunakan dalam aspek ini antara lain :**\n",
    "1. Angka partisipasi kasar (apk) dan angka partisipasi murni (apm) formal dan non formal menurut jenjang pendidikan dan karakteristik \n",
    "2. Persentase penduduk berumur 15 tahun yang melek huruf"
   ]
  },
  {
   "cell_type": "code",
   "execution_count": null,
   "id": "5ed1cad7",
   "metadata": {},
   "outputs": [
    {
     "name": "stdout",
     "output_type": "stream",
     "text": [
      "['APM dan APK menurut jenjang pendidikan 2019-2020.xlsx', 'APM dan APK menurut pendidikan 2021-2022.xlsx', 'APM dan APK menurut pendidikan 2022-2023.xlsx']\n"
     ]
    }
   ],
   "source": [
    "folder_apm_apk = \"Dashboard Interaktif/Dataset/PENDIDIKAN/APK, APM, MELEK/fix apm/APM dan APK menurut jenjang pendidikan\"\n",
    "files = sorted([f for f in os.listdir(folder_apm_apk) if f.endswith('.xlsx')])\n",
    "df_apm_apk = pd.DataFrame()\n",
    "print(os.listdir(folder_apm_apk))"
   ]
  },
  {
   "cell_type": "code",
   "execution_count": 106,
   "id": "7ba7db10",
   "metadata": {},
   "outputs": [],
   "source": [
    "data_bersih = []\n",
    "\n",
    "for file in files:\n",
    "    path = os.path.join(folder_apm_apk, file)\n",
    "    df = pd.read_excel(path, header=None)\n",
    "\n",
    "    current_years = []\n",
    "    for i, row in df.iterrows():\n",
    "        if str(row[0]).strip().lower() == \"tahun\":\n",
    "            current_years = [int(row[1]), int(row[2]), int(row[3]), int(row[4])]\n",
    "        elif pd.notna(row[0]) and str(row[0]).strip().lower() not in [\"tahun\", \"\"]:\n",
    "            jenjang = str(row[0]).replace(\"1. \", \"\").replace(\"2. \", \"\").replace(\"3. \", \"\").strip()\n",
    "            try:\n",
    "                data_bersih.extend([\n",
    "                    {\"Tahun\": current_years[0], \"Jenjang\": jenjang, \"Jenis\": \"APM\", \"Nilai\": float(row[1])},\n",
    "                    {\"Tahun\": current_years[1], \"Jenjang\": jenjang, \"Jenis\": \"APM\", \"Nilai\": float(row[2])},\n",
    "                    {\"Tahun\": current_years[2], \"Jenjang\": jenjang, \"Jenis\": \"APK\", \"Nilai\": float(row[3])},\n",
    "                    {\"Tahun\": current_years[3], \"Jenjang\": jenjang, \"Jenis\": \"APK\", \"Nilai\": float(row[4])},\n",
    "                ])\n",
    "            except:\n",
    "                continue\n",
    "\n",
    "# Gabungkan ke dalam DataFrame akhir\n",
    "df_final = pd.DataFrame(data_bersih)"
   ]
  },
  {
   "cell_type": "code",
   "execution_count": 108,
   "id": "9e65a5cb",
   "metadata": {},
   "outputs": [],
   "source": [
    "df_final.to_csv(\"Dashboard Interaktif/Data Clean/apm_apk_2019-2023.csv\", index=False)"
   ]
  },
  {
   "cell_type": "markdown",
   "id": "7dead240",
   "metadata": {},
   "source": [
    "3. Persentase penduduk berumur 15 tahun yang melek huruf"
   ]
  },
  {
   "cell_type": "code",
   "execution_count": 4,
   "id": "5922b250",
   "metadata": {},
   "outputs": [
    {
     "name": "stdout",
     "output_type": "stream",
     "text": [
      "['Persentase penduduk berumur 15 tahun ke atas yang melek huruf menurut kelompok umur 2019-2020.xlsx', 'Persentase penduduk berumur 15 tahun ke atas yang melek huruf menurut kelompok umur 2021-2022.xlsx', 'Persentase penduduk berumur 15 tahun ke atas yang melek huruf menurut kelompok umur 2022-2023.xlsx']\n"
     ]
    }
   ],
   "source": [
    "folder_melek_huruf = \"Dashboard Interaktif/Dataset/PENDIDIKAN/APK, APM, MELEK/fix apm/Persentase penduduk berumur 15 tahun melek huruf\"\n",
    "files = sorted([f for f in os.listdir(folder_melek_huruf) if f.endswith('.xlsx')])\n",
    "df_melek_huruf = pd.DataFrame()\n",
    "print(os.listdir(folder_melek_huruf))"
   ]
  },
  {
   "cell_type": "code",
   "execution_count": 8,
   "id": "0554add2",
   "metadata": {},
   "outputs": [
    {
     "data": {
      "application/vnd.microsoft.datawrangler.viewer.v0+json": {
       "columns": [
        {
         "name": "index",
         "rawType": "int64",
         "type": "integer"
        },
        {
         "name": "Kelompok Umur",
         "rawType": "object",
         "type": "string"
        },
        {
         "name": "2019",
         "rawType": "float64",
         "type": "float"
        },
        {
         "name": "2020",
         "rawType": "float64",
         "type": "float"
        }
       ],
       "ref": "77f12286-22c3-4c37-9515-94548db464de",
       "rows": [
        [
         "0",
         "15–19",
         "100.0",
         "100.0"
        ],
        [
         "1",
         "20–29",
         "99.82",
         "100.0"
        ],
        [
         "2",
         "30–39",
         "99.73",
         "98.95"
        ],
        [
         "3",
         "40–49",
         "99.86",
         "99.73"
        ],
        [
         "4",
         "50–59",
         "99.06",
         "98.6"
        ],
        [
         "5",
         "60–69",
         "94.55",
         "94.45"
        ],
        [
         "6",
         "70+",
         "78.35",
         "81.01"
        ]
       ],
       "shape": {
        "columns": 3,
        "rows": 7
       }
      },
      "text/html": [
       "<div>\n",
       "<style scoped>\n",
       "    .dataframe tbody tr th:only-of-type {\n",
       "        vertical-align: middle;\n",
       "    }\n",
       "\n",
       "    .dataframe tbody tr th {\n",
       "        vertical-align: top;\n",
       "    }\n",
       "\n",
       "    .dataframe thead th {\n",
       "        text-align: right;\n",
       "    }\n",
       "</style>\n",
       "<table border=\"1\" class=\"dataframe\">\n",
       "  <thead>\n",
       "    <tr style=\"text-align: right;\">\n",
       "      <th></th>\n",
       "      <th>Kelompok Umur</th>\n",
       "      <th>2019</th>\n",
       "      <th>2020</th>\n",
       "    </tr>\n",
       "  </thead>\n",
       "  <tbody>\n",
       "    <tr>\n",
       "      <th>0</th>\n",
       "      <td>15–19</td>\n",
       "      <td>100.00</td>\n",
       "      <td>100.00</td>\n",
       "    </tr>\n",
       "    <tr>\n",
       "      <th>1</th>\n",
       "      <td>20–29</td>\n",
       "      <td>99.82</td>\n",
       "      <td>100.00</td>\n",
       "    </tr>\n",
       "    <tr>\n",
       "      <th>2</th>\n",
       "      <td>30–39</td>\n",
       "      <td>99.73</td>\n",
       "      <td>98.95</td>\n",
       "    </tr>\n",
       "    <tr>\n",
       "      <th>3</th>\n",
       "      <td>40–49</td>\n",
       "      <td>99.86</td>\n",
       "      <td>99.73</td>\n",
       "    </tr>\n",
       "    <tr>\n",
       "      <th>4</th>\n",
       "      <td>50–59</td>\n",
       "      <td>99.06</td>\n",
       "      <td>98.60</td>\n",
       "    </tr>\n",
       "    <tr>\n",
       "      <th>5</th>\n",
       "      <td>60–69</td>\n",
       "      <td>94.55</td>\n",
       "      <td>94.45</td>\n",
       "    </tr>\n",
       "    <tr>\n",
       "      <th>6</th>\n",
       "      <td>70+</td>\n",
       "      <td>78.35</td>\n",
       "      <td>81.01</td>\n",
       "    </tr>\n",
       "  </tbody>\n",
       "</table>\n",
       "</div>"
      ],
      "text/plain": [
       "  Kelompok Umur    2019    2020\n",
       "0         15–19  100.00  100.00\n",
       "1         20–29   99.82  100.00\n",
       "2         30–39   99.73   98.95\n",
       "3         40–49   99.86   99.73\n",
       "4         50–59   99.06   98.60\n",
       "5         60–69   94.55   94.45\n",
       "6           70+   78.35   81.01"
      ]
     },
     "execution_count": 8,
     "metadata": {},
     "output_type": "execute_result"
    }
   ],
   "source": [
    "df = pd.read_excel(\"Dashboard Interaktif/Dataset/PENDIDIKAN/APK, APM, MELEK/fix apm/Persentase penduduk berumur 15 tahun melek huruf/Persentase penduduk berumur 15 tahun ke atas yang melek huruf menurut kelompok umur 2019-2020.xlsx\", header=1)\n",
    "df"
   ]
  },
  {
   "cell_type": "code",
   "execution_count": null,
   "id": "b000c9d4",
   "metadata": {},
   "outputs": [],
   "source": [
    "\n",
    "for file in files:\n",
    "    path = os.path.join(folder_melek_huruf, file)\n",
    "    df = pd.read_excel(path)\n",
    "    df = df.loc[:, ~df.columns.astype(str).str.contains(\"Unnamed\")]\n",
    "    # Cari kolom tahun (numerik) selain 'Kelompok Umur'\n",
    "    tahun_cols = [col for col in df.columns if str(col).replace(\".0\", \"\").isdigit()]\n",
    "    # Pastikan 'Kelompok Umur' ada\n",
    "    print(f\"Sedang memproses: {file}\")\n",
    "    print(\"Kolom:\", df.columns.tolist())\n",
    "    print(\"Dimensi:\", df.shape)\n",
    "\n",
    "    if 'Kelompok Umur' in df.columns:\n",
    "        df = df[['Kelompok Umur'] + tahun_cols]\n",
    "    else:\n",
    "        df.columns.values[0] = 'Kelompok Umur'  # Rename kolom pertama kalau belum benar\n",
    "\n",
    "    df_long = pd.melt(df, id_vars=\"Kelompok Umur\", var_name=\"Tahun\", value_name=\"Persentase\")\n",
    "\n",
    "    # Bersihkan tahun dan ubah ke integer\n",
    "    df_long['Tahun'] = df_long['Tahun'].astype(float).astype(int)\n",
    "\n",
    "    # Tambahkan ke gabungan\n",
    "    df_all = pd.concat([df_melek_huruf, df_long], ignore_index=True)\n"
   ]
  },
  {
   "cell_type": "code",
   "execution_count": null,
   "id": "c9c32e82",
   "metadata": {},
   "outputs": [
    {
     "name": "stdout",
     "output_type": "stream",
     "text": [
      "📂 Memproses file: Persentase penduduk berumur 15 tahun ke atas yang melek huruf menurut kelompok umur 2019-2020.xlsx\n",
      "📂 Memproses file: Persentase penduduk berumur 15 tahun ke atas yang melek huruf menurut kelompok umur 2021-2022.xlsx\n",
      "📂 Memproses file: Persentase penduduk berumur 15 tahun ke atas yang melek huruf menurut kelompok umur 2022-2023.xlsx\n"
     ]
    }
   ],
   "source": [
    "for file in files:\n",
    "    path = os.path.join(folder_melek_huruf, file)\n",
    "    print(f\"Memproses file: {file}\")\n",
    "    try:\n",
    "        # 3a. Coba baca file dari baris ke-1 (karena baris ke-0 biasanya kosong)\n",
    "        df = pd.read_excel(path, header=1)\n",
    "\n",
    "        # 3b. Buang kolom kosong atau 'Unnamed'\n",
    "        df = df.loc[:, ~df.columns.astype(str).str.contains(\"Unnamed\")]\n",
    "\n",
    "        # 3c. Pastikan kolom pertama adalah 'Kelompok Umur'\n",
    "        if df.columns[0] != \"Kelompok Umur\":\n",
    "            df.columns.values[0] = \"Kelompok Umur\"\n",
    "\n",
    "        # 3d. Filter kolom tahun (yang berupa angka)\n",
    "        tahun_cols = [col for col in df.columns if str(col).replace(\".0\", \"\").isdigit()]\n",
    "        if not tahun_cols:\n",
    "            print(f\"Lewati karena tidak ada kolom tahun: {file}\")\n",
    "            continue\n",
    "\n",
    "        # 3e. Ambil hanya kolom 'Kelompok Umur' dan tahun-tahun\n",
    "        df = df[[\"Kelompok Umur\"] + tahun_cols]\n",
    "\n",
    "        # 3f. Ubah ke format panjang (long)\n",
    "        df_long = pd.melt(df, id_vars=\"Kelompok Umur\", var_name=\"Tahun\", value_name=\"Persentase\")\n",
    "\n",
    "        # 3g. Bersihkan dan ubah tipe data\n",
    "        df_long[\"Tahun\"] = df_long[\"Tahun\"].astype(float).astype(int)\n",
    "        df_long[\"Kelompok Umur\"] = df_long[\"Kelompok Umur\"].astype(str)\n",
    "        df_long[\"Persentase\"] = pd.to_numeric(df_long[\"Persentase\"], errors=\"coerce\")\n",
    "\n",
    "        # 3h. Gabungkan ke df_all\n",
    "        df_melek_huruf = pd.concat([df_melek_huruf, df_long], ignore_index=True)\n",
    "\n",
    "    except Exception as e:\n",
    "        print(f\"❌ Gagal membaca {file}: {e}\")"
   ]
  },
  {
   "cell_type": "code",
   "execution_count": 16,
   "id": "bb8217fc",
   "metadata": {},
   "outputs": [
    {
     "data": {
      "application/vnd.microsoft.datawrangler.viewer.v0+json": {
       "columns": [
        {
         "name": "index",
         "rawType": "int64",
         "type": "integer"
        },
        {
         "name": "Kelompok Umur",
         "rawType": "object",
         "type": "string"
        },
        {
         "name": "Tahun",
         "rawType": "int32",
         "type": "integer"
        },
        {
         "name": "Persentase",
         "rawType": "float64",
         "type": "float"
        }
       ],
       "ref": "1089174d-adc2-417b-8cdc-e0c18c688076",
       "rows": [
        [
         "0",
         "15–19",
         "2019",
         "100.0"
        ],
        [
         "1",
         "20–29",
         "2019",
         "99.82"
        ],
        [
         "2",
         "30–39",
         "2019",
         "99.73"
        ],
        [
         "3",
         "40–49",
         "2019",
         "99.86"
        ],
        [
         "4",
         "50–59",
         "2019",
         "99.06"
        ],
        [
         "5",
         "60–69",
         "2019",
         "94.55"
        ],
        [
         "6",
         "70+",
         "2019",
         "78.35"
        ],
        [
         "7",
         "15–19",
         "2020",
         "100.0"
        ],
        [
         "8",
         "20–29",
         "2020",
         "100.0"
        ],
        [
         "9",
         "30–39",
         "2020",
         "98.95"
        ],
        [
         "10",
         "40–49",
         "2020",
         "99.73"
        ],
        [
         "11",
         "50–59",
         "2020",
         "98.6"
        ],
        [
         "12",
         "60–69",
         "2020",
         "94.45"
        ],
        [
         "13",
         "70+",
         "2020",
         "81.01"
        ],
        [
         "14",
         "15–19",
         "2021",
         "100.0"
        ],
        [
         "15",
         "20–29",
         "2021",
         "100.0"
        ],
        [
         "16",
         "30–39",
         "2021",
         "98.68"
        ],
        [
         "17",
         "40–49",
         "2021",
         "99.56"
        ],
        [
         "18",
         "50–59",
         "2021",
         "97.5"
        ],
        [
         "19",
         "60–69",
         "2021",
         "89.93"
        ],
        [
         "20",
         "15–19",
         "2022",
         "100.0"
        ],
        [
         "21",
         "20–29",
         "2022",
         "100.0"
        ],
        [
         "22",
         "30–39",
         "2022",
         "98.08"
        ],
        [
         "23",
         "40–49",
         "2022",
         "97.89"
        ],
        [
         "24",
         "50–59",
         "2022",
         "97.24"
        ],
        [
         "25",
         "60–69",
         "2022",
         "83.64"
        ],
        [
         "26",
         "15–19",
         "2022",
         "100.0"
        ],
        [
         "27",
         "20–29",
         "2022",
         "100.0"
        ],
        [
         "28",
         "30–39",
         "2022",
         "98.08"
        ],
        [
         "29",
         "40–49",
         "2022",
         "97.89"
        ],
        [
         "30",
         "50–59",
         "2022",
         "97.24"
        ],
        [
         "31",
         "60–69",
         "2022",
         "83.64"
        ],
        [
         "32",
         "15–19",
         "2023",
         "100.0"
        ],
        [
         "33",
         "20–29",
         "2023",
         "100.0"
        ],
        [
         "34",
         "30–39",
         "2023",
         "100.0"
        ],
        [
         "35",
         "40–49",
         "2023",
         "99.85"
        ],
        [
         "36",
         "50–59",
         "2023",
         "98.8"
        ],
        [
         "37",
         "60–69",
         "2023",
         "92.43"
        ]
       ],
       "shape": {
        "columns": 3,
        "rows": 38
       }
      },
      "text/html": [
       "<div>\n",
       "<style scoped>\n",
       "    .dataframe tbody tr th:only-of-type {\n",
       "        vertical-align: middle;\n",
       "    }\n",
       "\n",
       "    .dataframe tbody tr th {\n",
       "        vertical-align: top;\n",
       "    }\n",
       "\n",
       "    .dataframe thead th {\n",
       "        text-align: right;\n",
       "    }\n",
       "</style>\n",
       "<table border=\"1\" class=\"dataframe\">\n",
       "  <thead>\n",
       "    <tr style=\"text-align: right;\">\n",
       "      <th></th>\n",
       "      <th>Kelompok Umur</th>\n",
       "      <th>Tahun</th>\n",
       "      <th>Persentase</th>\n",
       "    </tr>\n",
       "  </thead>\n",
       "  <tbody>\n",
       "    <tr>\n",
       "      <th>0</th>\n",
       "      <td>15–19</td>\n",
       "      <td>2019</td>\n",
       "      <td>100.00</td>\n",
       "    </tr>\n",
       "    <tr>\n",
       "      <th>1</th>\n",
       "      <td>20–29</td>\n",
       "      <td>2019</td>\n",
       "      <td>99.82</td>\n",
       "    </tr>\n",
       "    <tr>\n",
       "      <th>2</th>\n",
       "      <td>30–39</td>\n",
       "      <td>2019</td>\n",
       "      <td>99.73</td>\n",
       "    </tr>\n",
       "    <tr>\n",
       "      <th>3</th>\n",
       "      <td>40–49</td>\n",
       "      <td>2019</td>\n",
       "      <td>99.86</td>\n",
       "    </tr>\n",
       "    <tr>\n",
       "      <th>4</th>\n",
       "      <td>50–59</td>\n",
       "      <td>2019</td>\n",
       "      <td>99.06</td>\n",
       "    </tr>\n",
       "    <tr>\n",
       "      <th>5</th>\n",
       "      <td>60–69</td>\n",
       "      <td>2019</td>\n",
       "      <td>94.55</td>\n",
       "    </tr>\n",
       "    <tr>\n",
       "      <th>6</th>\n",
       "      <td>70+</td>\n",
       "      <td>2019</td>\n",
       "      <td>78.35</td>\n",
       "    </tr>\n",
       "    <tr>\n",
       "      <th>7</th>\n",
       "      <td>15–19</td>\n",
       "      <td>2020</td>\n",
       "      <td>100.00</td>\n",
       "    </tr>\n",
       "    <tr>\n",
       "      <th>8</th>\n",
       "      <td>20–29</td>\n",
       "      <td>2020</td>\n",
       "      <td>100.00</td>\n",
       "    </tr>\n",
       "    <tr>\n",
       "      <th>9</th>\n",
       "      <td>30–39</td>\n",
       "      <td>2020</td>\n",
       "      <td>98.95</td>\n",
       "    </tr>\n",
       "    <tr>\n",
       "      <th>10</th>\n",
       "      <td>40–49</td>\n",
       "      <td>2020</td>\n",
       "      <td>99.73</td>\n",
       "    </tr>\n",
       "    <tr>\n",
       "      <th>11</th>\n",
       "      <td>50–59</td>\n",
       "      <td>2020</td>\n",
       "      <td>98.60</td>\n",
       "    </tr>\n",
       "    <tr>\n",
       "      <th>12</th>\n",
       "      <td>60–69</td>\n",
       "      <td>2020</td>\n",
       "      <td>94.45</td>\n",
       "    </tr>\n",
       "    <tr>\n",
       "      <th>13</th>\n",
       "      <td>70+</td>\n",
       "      <td>2020</td>\n",
       "      <td>81.01</td>\n",
       "    </tr>\n",
       "    <tr>\n",
       "      <th>14</th>\n",
       "      <td>15–19</td>\n",
       "      <td>2021</td>\n",
       "      <td>100.00</td>\n",
       "    </tr>\n",
       "    <tr>\n",
       "      <th>15</th>\n",
       "      <td>20–29</td>\n",
       "      <td>2021</td>\n",
       "      <td>100.00</td>\n",
       "    </tr>\n",
       "    <tr>\n",
       "      <th>16</th>\n",
       "      <td>30–39</td>\n",
       "      <td>2021</td>\n",
       "      <td>98.68</td>\n",
       "    </tr>\n",
       "    <tr>\n",
       "      <th>17</th>\n",
       "      <td>40–49</td>\n",
       "      <td>2021</td>\n",
       "      <td>99.56</td>\n",
       "    </tr>\n",
       "    <tr>\n",
       "      <th>18</th>\n",
       "      <td>50–59</td>\n",
       "      <td>2021</td>\n",
       "      <td>97.50</td>\n",
       "    </tr>\n",
       "    <tr>\n",
       "      <th>19</th>\n",
       "      <td>60–69</td>\n",
       "      <td>2021</td>\n",
       "      <td>89.93</td>\n",
       "    </tr>\n",
       "    <tr>\n",
       "      <th>20</th>\n",
       "      <td>15–19</td>\n",
       "      <td>2022</td>\n",
       "      <td>100.00</td>\n",
       "    </tr>\n",
       "    <tr>\n",
       "      <th>21</th>\n",
       "      <td>20–29</td>\n",
       "      <td>2022</td>\n",
       "      <td>100.00</td>\n",
       "    </tr>\n",
       "    <tr>\n",
       "      <th>22</th>\n",
       "      <td>30–39</td>\n",
       "      <td>2022</td>\n",
       "      <td>98.08</td>\n",
       "    </tr>\n",
       "    <tr>\n",
       "      <th>23</th>\n",
       "      <td>40–49</td>\n",
       "      <td>2022</td>\n",
       "      <td>97.89</td>\n",
       "    </tr>\n",
       "    <tr>\n",
       "      <th>24</th>\n",
       "      <td>50–59</td>\n",
       "      <td>2022</td>\n",
       "      <td>97.24</td>\n",
       "    </tr>\n",
       "    <tr>\n",
       "      <th>25</th>\n",
       "      <td>60–69</td>\n",
       "      <td>2022</td>\n",
       "      <td>83.64</td>\n",
       "    </tr>\n",
       "    <tr>\n",
       "      <th>26</th>\n",
       "      <td>15–19</td>\n",
       "      <td>2022</td>\n",
       "      <td>100.00</td>\n",
       "    </tr>\n",
       "    <tr>\n",
       "      <th>27</th>\n",
       "      <td>20–29</td>\n",
       "      <td>2022</td>\n",
       "      <td>100.00</td>\n",
       "    </tr>\n",
       "    <tr>\n",
       "      <th>28</th>\n",
       "      <td>30–39</td>\n",
       "      <td>2022</td>\n",
       "      <td>98.08</td>\n",
       "    </tr>\n",
       "    <tr>\n",
       "      <th>29</th>\n",
       "      <td>40–49</td>\n",
       "      <td>2022</td>\n",
       "      <td>97.89</td>\n",
       "    </tr>\n",
       "    <tr>\n",
       "      <th>30</th>\n",
       "      <td>50–59</td>\n",
       "      <td>2022</td>\n",
       "      <td>97.24</td>\n",
       "    </tr>\n",
       "    <tr>\n",
       "      <th>31</th>\n",
       "      <td>60–69</td>\n",
       "      <td>2022</td>\n",
       "      <td>83.64</td>\n",
       "    </tr>\n",
       "    <tr>\n",
       "      <th>32</th>\n",
       "      <td>15–19</td>\n",
       "      <td>2023</td>\n",
       "      <td>100.00</td>\n",
       "    </tr>\n",
       "    <tr>\n",
       "      <th>33</th>\n",
       "      <td>20–29</td>\n",
       "      <td>2023</td>\n",
       "      <td>100.00</td>\n",
       "    </tr>\n",
       "    <tr>\n",
       "      <th>34</th>\n",
       "      <td>30–39</td>\n",
       "      <td>2023</td>\n",
       "      <td>100.00</td>\n",
       "    </tr>\n",
       "    <tr>\n",
       "      <th>35</th>\n",
       "      <td>40–49</td>\n",
       "      <td>2023</td>\n",
       "      <td>99.85</td>\n",
       "    </tr>\n",
       "    <tr>\n",
       "      <th>36</th>\n",
       "      <td>50–59</td>\n",
       "      <td>2023</td>\n",
       "      <td>98.80</td>\n",
       "    </tr>\n",
       "    <tr>\n",
       "      <th>37</th>\n",
       "      <td>60–69</td>\n",
       "      <td>2023</td>\n",
       "      <td>92.43</td>\n",
       "    </tr>\n",
       "  </tbody>\n",
       "</table>\n",
       "</div>"
      ],
      "text/plain": [
       "   Kelompok Umur  Tahun  Persentase\n",
       "0          15–19   2019      100.00\n",
       "1          20–29   2019       99.82\n",
       "2          30–39   2019       99.73\n",
       "3          40–49   2019       99.86\n",
       "4          50–59   2019       99.06\n",
       "5          60–69   2019       94.55\n",
       "6            70+   2019       78.35\n",
       "7          15–19   2020      100.00\n",
       "8          20–29   2020      100.00\n",
       "9          30–39   2020       98.95\n",
       "10         40–49   2020       99.73\n",
       "11         50–59   2020       98.60\n",
       "12         60–69   2020       94.45\n",
       "13           70+   2020       81.01\n",
       "14         15–19   2021      100.00\n",
       "15         20–29   2021      100.00\n",
       "16         30–39   2021       98.68\n",
       "17         40–49   2021       99.56\n",
       "18         50–59   2021       97.50\n",
       "19         60–69   2021       89.93\n",
       "20         15–19   2022      100.00\n",
       "21         20–29   2022      100.00\n",
       "22         30–39   2022       98.08\n",
       "23         40–49   2022       97.89\n",
       "24         50–59   2022       97.24\n",
       "25         60–69   2022       83.64\n",
       "26         15–19   2022      100.00\n",
       "27         20–29   2022      100.00\n",
       "28         30–39   2022       98.08\n",
       "29         40–49   2022       97.89\n",
       "30         50–59   2022       97.24\n",
       "31         60–69   2022       83.64\n",
       "32         15–19   2023      100.00\n",
       "33         20–29   2023      100.00\n",
       "34         30–39   2023      100.00\n",
       "35         40–49   2023       99.85\n",
       "36         50–59   2023       98.80\n",
       "37         60–69   2023       92.43"
      ]
     },
     "execution_count": 16,
     "metadata": {},
     "output_type": "execute_result"
    }
   ],
   "source": [
    "df_melek_huruf"
   ]
  },
  {
   "cell_type": "code",
   "execution_count": 17,
   "id": "c38e80c2",
   "metadata": {},
   "outputs": [],
   "source": [
    "df_melek_huruf.to_csv(\"Dashboard Interaktif/Data Clean/melek_huruf_2019-2023.csv\", index = False)"
   ]
  },
  {
   "cell_type": "markdown",
   "id": "92d1a15a",
   "metadata": {},
   "source": [
    "## **Tenaga Kerja**\n",
    "- **Dataset yang digunakan dalam aspek ini antara lain :**\n",
    "1. TPAK (Tingkat Partisipasi Angakatan Kerja) 2019-2024 \n",
    "2. Kemiskinan dan Pengangguran di kabupaten Tulungagung 2010-2020"
   ]
  },
  {
   "cell_type": "code",
   "execution_count": 18,
   "id": "72f516dc",
   "metadata": {},
   "outputs": [
    {
     "name": "stdout",
     "output_type": "stream",
     "text": [
      "['Tingkat Partisipasi Angkatan Kerja (TPAK) Menurut Kabupaten_Kota, 2019.xlsx', 'Tingkat Partisipasi Angkatan Kerja (TPAK) Menurut Kabupaten_Kota, 2020.xlsx', 'Tingkat Partisipasi Angkatan Kerja (TPAK) Menurut Kabupaten_Kota, 2021.xlsx', 'Tingkat Partisipasi Angkatan Kerja (TPAK) Menurut Kabupaten_Kota, 2022.xlsx', 'Tingkat Partisipasi Angkatan Kerja (TPAK) Menurut Kabupaten_Kota, 2023.xlsx', 'Tingkat Partisipasi Angkatan Kerja (TPAK) Menurut Kabupaten_Kota, 2024.xlsx']\n"
     ]
    }
   ],
   "source": [
    "folder_tpak= \"Dashboard Interaktif/Dataset/TENAGA KERJA/fix tenaga kerja/TPAK\"\n",
    "files = sorted([f for f in os.listdir(folder_tpak) if f.endswith('.xlsx')])\n",
    "df_tpak = pd.DataFrame()\n",
    "print(os.listdir(folder_tpak))"
   ]
  },
  {
   "cell_type": "code",
   "execution_count": 20,
   "id": "dddc0cf3",
   "metadata": {},
   "outputs": [],
   "source": [
    "for file in files :\n",
    "    tahun = ''.join(filter(str.isdigit, file))[:4]\n",
    "    #read main sheet\n",
    "    path = os.path.join(folder_tpak, file)\n",
    "    df_tpak_all = pd.read_excel(path)\n",
    "    df_tpak_all = df_tpak_all.iloc[:, :2]\n",
    "    #rename coloumn and rows\n",
    "    df_tpak_all.columns = [\"Kabupaten/Kota Se Jawa Timur\", \"Tingkat Partisipasi Angkatan Kerja (TPAK) Menurut Kabupaten/Kota (Persen)\"]\n",
    "    df_tpak_all['Tahun'] = int(tahun)\n",
    "    df_tpak= pd.concat(([df_tpak, df_tpak_all]), ignore_index = True)\n"
   ]
  },
  {
   "cell_type": "code",
   "execution_count": 21,
   "id": "4a22342c",
   "metadata": {},
   "outputs": [
    {
     "data": {
      "application/vnd.microsoft.datawrangler.viewer.v0+json": {
       "columns": [
        {
         "name": "index",
         "rawType": "int64",
         "type": "integer"
        },
        {
         "name": "Kabupaten/Kota Se Jawa Timur",
         "rawType": "object",
         "type": "string"
        },
        {
         "name": "Tingkat Partisipasi Angkatan Kerja (TPAK) Menurut Kabupaten/Kota (Persen)",
         "rawType": "object",
         "type": "unknown"
        },
        {
         "name": "Tahun",
         "rawType": "int64",
         "type": "integer"
        }
       ],
       "ref": "0c537a60-2d7e-4bc9-9a70-5212e70d0fed",
       "rows": [
        [
         "0",
         "Kabupaten/Kota Se Jawa Timur",
         "Tingkat Partisipasi Angkatan Kerja (TPAK) Menurut Kabupaten/Kota (Persen)",
         "2019"
        ],
        [
         "1",
         "Tahun",
         "2019",
         "2019"
        ],
        [
         "2",
         "Kabupaten Pacitan",
         "79.62",
         "2019"
        ],
        [
         "3",
         "Kabupaten Ponorogo",
         "71.15",
         "2019"
        ],
        [
         "4",
         "Kabupaten Trenggalek",
         "73.45",
         "2019"
        ],
        [
         "5",
         "Kabupaten Tulungagung",
         "70.48",
         "2019"
        ],
        [
         "6",
         "Kabupaten Blitar",
         "72.93",
         "2019"
        ],
        [
         "7",
         "Kabupaten Kediri",
         "71.76",
         "2019"
        ],
        [
         "8",
         "Kabupaten Malang",
         "70.07",
         "2019"
        ],
        [
         "9",
         "Kabupaten Lumajang",
         "66.14",
         "2019"
        ],
        [
         "10",
         "Kabupaten Jember",
         "67.16",
         "2019"
        ],
        [
         "11",
         "Kabupaten Banyuwangi",
         "72.13",
         "2019"
        ],
        [
         "12",
         "Kabupaten Bondowoso",
         "76.01",
         "2019"
        ],
        [
         "13",
         "Kabupaten Situbondo",
         "72.4",
         "2019"
        ],
        [
         "14",
         "Kabupaten Probolinggo",
         "68.88",
         "2019"
        ],
        [
         "15",
         "Kabupaten Pasuruan",
         "68.82",
         "2019"
        ],
        [
         "16",
         "Kabupaten Sidoarjo",
         "66.98",
         "2019"
        ],
        [
         "17",
         "Kabupaten Mojokerto",
         "69.46",
         "2019"
        ],
        [
         "18",
         "Kabupaten Jombang",
         "71.04",
         "2019"
        ],
        [
         "19",
         "Kabupaten Nganjuk",
         "66.78",
         "2019"
        ],
        [
         "20",
         "Kabupaten Madiun",
         "70.47",
         "2019"
        ],
        [
         "21",
         "Kabupaten Magetan",
         "72.34",
         "2019"
        ],
        [
         "22",
         "Kabupaten Ngawi",
         "72.48",
         "2019"
        ],
        [
         "23",
         "Kabupaten Bojonegoro",
         "71.29",
         "2019"
        ],
        [
         "24",
         "Kabupaten Tuban",
         "68.76",
         "2019"
        ],
        [
         "25",
         "Kabupaten Lamongan",
         "68.96",
         "2019"
        ],
        [
         "26",
         "Kabupaten Gresik",
         "65.83",
         "2019"
        ],
        [
         "27",
         "Kabupaten Bangkalan",
         "63.44",
         "2019"
        ],
        [
         "28",
         "Kabupaten Sampang",
         "66.74",
         "2019"
        ],
        [
         "29",
         "Kabupaten Pamekasan",
         "68.5",
         "2019"
        ],
        [
         "30",
         "Kabupaten Sumenep",
         "75.33",
         "2019"
        ],
        [
         "31",
         "Kota Kediri",
         "64.81",
         "2019"
        ],
        [
         "32",
         "Kota Blitar",
         "72.15",
         "2019"
        ],
        [
         "33",
         "Kota Malang",
         "66.1",
         "2019"
        ],
        [
         "34",
         "Kota Probolinggo",
         "64.12",
         "2019"
        ],
        [
         "35",
         "Kota Pasuruan",
         "68.12",
         "2019"
        ],
        [
         "36",
         "Kota Mojokerto",
         "65.09",
         "2019"
        ],
        [
         "37",
         "Kota Madiun",
         "66.86",
         "2019"
        ],
        [
         "38",
         "Kota Surabaya",
         "68.76",
         "2019"
        ],
        [
         "39",
         "Kota Batu",
         "71.22",
         "2019"
        ],
        [
         "40",
         "Jawa Timur",
         "69.61",
         "2019"
        ],
        [
         "41",
         "Kabupaten/Kota Se Jawa Timur",
         "Tingkat Partisipasi Angkatan Kerja (TPAK) Menurut Kabupaten/Kota (Persen)",
         "2020"
        ],
        [
         "42",
         "Tahun",
         "2020",
         "2020"
        ],
        [
         "43",
         "Kabupaten Pacitan",
         "80.36",
         "2020"
        ],
        [
         "44",
         "Kabupaten Ponorogo",
         "71.51",
         "2020"
        ],
        [
         "45",
         "Kabupaten Trenggalek",
         "75.72",
         "2020"
        ],
        [
         "46",
         "Kabupaten Tulungagung",
         "73.17",
         "2020"
        ],
        [
         "47",
         "Kabupaten Blitar",
         "70.83",
         "2020"
        ],
        [
         "48",
         "Kabupaten Kediri",
         "70.65",
         "2020"
        ],
        [
         "49",
         "Kabupaten Malang",
         "71.62",
         "2020"
        ]
       ],
       "shape": {
        "columns": 3,
        "rows": 246
       }
      },
      "text/html": [
       "<div>\n",
       "<style scoped>\n",
       "    .dataframe tbody tr th:only-of-type {\n",
       "        vertical-align: middle;\n",
       "    }\n",
       "\n",
       "    .dataframe tbody tr th {\n",
       "        vertical-align: top;\n",
       "    }\n",
       "\n",
       "    .dataframe thead th {\n",
       "        text-align: right;\n",
       "    }\n",
       "</style>\n",
       "<table border=\"1\" class=\"dataframe\">\n",
       "  <thead>\n",
       "    <tr style=\"text-align: right;\">\n",
       "      <th></th>\n",
       "      <th>Kabupaten/Kota Se Jawa Timur</th>\n",
       "      <th>Tingkat Partisipasi Angkatan Kerja (TPAK) Menurut Kabupaten/Kota (Persen)</th>\n",
       "      <th>Tahun</th>\n",
       "    </tr>\n",
       "  </thead>\n",
       "  <tbody>\n",
       "    <tr>\n",
       "      <th>0</th>\n",
       "      <td>Kabupaten/Kota Se Jawa Timur</td>\n",
       "      <td>Tingkat Partisipasi Angkatan Kerja (TPAK) Menu...</td>\n",
       "      <td>2019</td>\n",
       "    </tr>\n",
       "    <tr>\n",
       "      <th>1</th>\n",
       "      <td>Tahun</td>\n",
       "      <td>2019</td>\n",
       "      <td>2019</td>\n",
       "    </tr>\n",
       "    <tr>\n",
       "      <th>2</th>\n",
       "      <td>Kabupaten Pacitan</td>\n",
       "      <td>79.62</td>\n",
       "      <td>2019</td>\n",
       "    </tr>\n",
       "    <tr>\n",
       "      <th>3</th>\n",
       "      <td>Kabupaten Ponorogo</td>\n",
       "      <td>71.15</td>\n",
       "      <td>2019</td>\n",
       "    </tr>\n",
       "    <tr>\n",
       "      <th>4</th>\n",
       "      <td>Kabupaten Trenggalek</td>\n",
       "      <td>73.45</td>\n",
       "      <td>2019</td>\n",
       "    </tr>\n",
       "    <tr>\n",
       "      <th>...</th>\n",
       "      <td>...</td>\n",
       "      <td>...</td>\n",
       "      <td>...</td>\n",
       "    </tr>\n",
       "    <tr>\n",
       "      <th>241</th>\n",
       "      <td>Kota Mojokerto</td>\n",
       "      <td>72.68</td>\n",
       "      <td>2024</td>\n",
       "    </tr>\n",
       "    <tr>\n",
       "      <th>242</th>\n",
       "      <td>Kota Madiun</td>\n",
       "      <td>70.6</td>\n",
       "      <td>2024</td>\n",
       "    </tr>\n",
       "    <tr>\n",
       "      <th>243</th>\n",
       "      <td>Kota Surabaya</td>\n",
       "      <td>70.49</td>\n",
       "      <td>2024</td>\n",
       "    </tr>\n",
       "    <tr>\n",
       "      <th>244</th>\n",
       "      <td>Kota Batu</td>\n",
       "      <td>73.53</td>\n",
       "      <td>2024</td>\n",
       "    </tr>\n",
       "    <tr>\n",
       "      <th>245</th>\n",
       "      <td>Jawa Timur</td>\n",
       "      <td>73.45</td>\n",
       "      <td>2024</td>\n",
       "    </tr>\n",
       "  </tbody>\n",
       "</table>\n",
       "<p>246 rows × 3 columns</p>\n",
       "</div>"
      ],
      "text/plain": [
       "     Kabupaten/Kota Se Jawa Timur  \\\n",
       "0    Kabupaten/Kota Se Jawa Timur   \n",
       "1                           Tahun   \n",
       "2               Kabupaten Pacitan   \n",
       "3              Kabupaten Ponorogo   \n",
       "4            Kabupaten Trenggalek   \n",
       "..                            ...   \n",
       "241                Kota Mojokerto   \n",
       "242                   Kota Madiun   \n",
       "243                 Kota Surabaya   \n",
       "244                     Kota Batu   \n",
       "245                    Jawa Timur   \n",
       "\n",
       "    Tingkat Partisipasi Angkatan Kerja (TPAK) Menurut Kabupaten/Kota (Persen)  \\\n",
       "0    Tingkat Partisipasi Angkatan Kerja (TPAK) Menu...                          \n",
       "1                                                 2019                          \n",
       "2                                                79.62                          \n",
       "3                                                71.15                          \n",
       "4                                                73.45                          \n",
       "..                                                 ...                          \n",
       "241                                              72.68                          \n",
       "242                                               70.6                          \n",
       "243                                              70.49                          \n",
       "244                                              73.53                          \n",
       "245                                              73.45                          \n",
       "\n",
       "     Tahun  \n",
       "0     2019  \n",
       "1     2019  \n",
       "2     2019  \n",
       "3     2019  \n",
       "4     2019  \n",
       "..     ...  \n",
       "241   2024  \n",
       "242   2024  \n",
       "243   2024  \n",
       "244   2024  \n",
       "245   2024  \n",
       "\n",
       "[246 rows x 3 columns]"
      ]
     },
     "execution_count": 21,
     "metadata": {},
     "output_type": "execute_result"
    }
   ],
   "source": [
    "df_tpak"
   ]
  },
  {
   "cell_type": "code",
   "execution_count": 22,
   "id": "60dbaab2",
   "metadata": {},
   "outputs": [
    {
     "name": "stdout",
     "output_type": "stream",
     "text": [
      "    Kabupaten/Kota Se Jawa Timur  \\\n",
      "5          Kabupaten Tulungagung   \n",
      "46         Kabupaten Tulungagung   \n",
      "87         Kabupaten Tulungagung   \n",
      "128        Kabupaten Tulungagung   \n",
      "169        Kabupaten Tulungagung   \n",
      "210        Kabupaten Tulungagung   \n",
      "\n",
      "    Tingkat Partisipasi Angkatan Kerja (TPAK) Menurut Kabupaten/Kota (Persen)  \\\n",
      "5                                                70.48                          \n",
      "46                                               73.17                          \n",
      "87                                               72.26                          \n",
      "128                                              71.95                          \n",
      "169                                               74.7                          \n",
      "210                                              75.57                          \n",
      "\n",
      "     Tahun         Kabupaten/Kota  \n",
      "5     2019  kabupaten tulungagung  \n",
      "46    2020  kabupaten tulungagung  \n",
      "87    2021  kabupaten tulungagung  \n",
      "128   2022  kabupaten tulungagung  \n",
      "169   2023  kabupaten tulungagung  \n",
      "210   2024  kabupaten tulungagung  \n"
     ]
    }
   ],
   "source": [
    "# Bersihkan whitespace dan huruf kapital pada kolom nama daerah\n",
    "df_tpak['Kabupaten/Kota'] = df_tpak['Kabupaten/Kota Se Jawa Timur'].str.strip().str.lower()\n",
    "df_tulungagung = df_tpak[df_tpak['Kabupaten/Kota'].str.contains(\"tulungagung\")]\n",
    "print(df_tulungagung)"
   ]
  },
  {
   "cell_type": "code",
   "execution_count": 23,
   "id": "898de6d6",
   "metadata": {},
   "outputs": [],
   "source": [
    "df_tulungagung.to_csv(\"Dashboard Interaktif/Data Clean/tpak_2019-2024.csv\", index =False)"
   ]
  },
  {
   "cell_type": "markdown",
   "id": "08e5756a",
   "metadata": {},
   "source": [
    "2. Kemiskinan dan Pengangguran di kabupaten tulungagung 2010-2020"
   ]
  },
  {
   "cell_type": "code",
   "execution_count": 27,
   "id": "e9eab607",
   "metadata": {},
   "outputs": [
    {
     "data": {
      "application/vnd.microsoft.datawrangler.viewer.v0+json": {
       "columns": [
        {
         "name": "index",
         "rawType": "int64",
         "type": "integer"
        },
        {
         "name": "Unnamed: 0",
         "rawType": "object",
         "type": "unknown"
        },
        {
         "name": "KEMISKINAN",
         "rawType": "object",
         "type": "unknown"
        },
        {
         "name": "Unnamed: 2",
         "rawType": "object",
         "type": "unknown"
        },
        {
         "name": "Unnamed: 3",
         "rawType": "object",
         "type": "unknown"
        },
        {
         "name": "Unnamed: 4",
         "rawType": "object",
         "type": "unknown"
        },
        {
         "name": "Unnamed: 5",
         "rawType": "object",
         "type": "unknown"
        },
        {
         "name": "PENGANGGURAN",
         "rawType": "object",
         "type": "unknown"
        },
        {
         "name": "Unnamed: 7",
         "rawType": "object",
         "type": "unknown"
        },
        {
         "name": "Unnamed: 8",
         "rawType": "object",
         "type": "unknown"
        },
        {
         "name": "Unnamed: 9",
         "rawType": "object",
         "type": "unknown"
        },
        {
         "name": "Unnamed: 10",
         "rawType": "object",
         "type": "unknown"
        },
        {
         "name": "Unnamed: 11",
         "rawType": "object",
         "type": "unknown"
        },
        {
         "name": "Unnamed: 12",
         "rawType": "object",
         "type": "unknown"
        },
        {
         "name": "Unnamed: 13",
         "rawType": "object",
         "type": "unknown"
        },
        {
         "name": "Unnamed: 14",
         "rawType": "object",
         "type": "unknown"
        },
        {
         "name": "Unnamed: 15",
         "rawType": "object",
         "type": "unknown"
        }
       ],
       "ref": "cb6b7106-9dfa-4cf1-b9d8-5b8d5dec7388",
       "rows": [
        [
         "0",
         "Tahun",
         "PendudukMiskin(Jiwa)",
         "P0(%)",
         "P1(%)",
         "P2(%)",
         "GK(Rp.)",
         "AK(Jiwa)",
         "BAK(Jiwa)",
         "BEKERJA(Jiwa)",
         "Pengangguran(Jiwa)",
         "TPT(%)",
         "PendudukProyeksiSP2010(Jiwa)",
         "PendudukHasilSP2021",
         "HasilProyeksiPendudukInterim2020-2024",
         "AK+BAK(PendudukUsiaKerja)",
         "ProporsiPddkUsiaKerja(Jiwa)"
        ],
        [
         "1",
         "2010",
         "105400",
         "10.64",
         "1.36",
         "0.26",
         "214362",
         "543315",
         "203746",
         "524294",
         "19021",
         "3.5",
         "990841",
         "0",
         "0",
         "747061",
         "75.4"
        ],
        [
         "2",
         "2011",
         "98747",
         "9.9",
         "1.31",
         "0.26",
         "234806",
         "517678",
         "229757",
         "499125",
         "18553",
         "3.58",
         "995731",
         "0",
         "0",
         "747435",
         "75.06"
        ],
        [
         "3",
         "2012",
         "94300",
         "9.37",
         "1.07",
         "0.2",
         "251372",
         "545467",
         "209919",
         "528123",
         "17344",
         "3.18",
         "999640",
         "0",
         "0",
         "755386",
         "75.57"
        ],
        [
         "4",
         "2013",
         "91300",
         "9.03",
         "1.15",
         "0.24",
         "269290",
         "541138",
         "216680",
         "526175",
         "14963",
         "2.77",
         "1009411",
         "0",
         "0",
         "757818",
         "75.08"
        ],
        [
         "5",
         "2014",
         "88990",
         "8.75",
         "1.03",
         "0.21",
         "277707",
         "565151",
         "213643",
         "551480",
         "13671",
         "2.42",
         "1015974",
         "0",
         "0",
         "778794",
         "76.65"
        ],
        [
         "6",
         "2015",
         "87370",
         "8.57",
         "1.27",
         "0.3",
         "292483",
         "547466",
         "238802",
         "525867",
         "21599",
         "3.95",
         "1021190",
         "0",
         "0",
         "786268",
         "77"
        ],
        [
         "7",
         "2016",
         "84350",
         "8.23",
         "0.98",
         "0.18",
         "304518",
         "0",
         "0",
         "0",
         "0",
         "0",
         "0",
         "0",
         "0",
         "0",
         "0"
        ],
        [
         "8",
         "2017",
         "82800",
         "8.04",
         "0.82",
         "0.16",
         "314532",
         "537081",
         "262764",
         "524884",
         "12197",
         "2.27",
         "1030790",
         "0",
         "0",
         "799845",
         "77.6"
        ],
        [
         "9",
         "2018",
         "75230",
         "7.27",
         "0.98",
         "0.21",
         "328640",
         "569310",
         "236879",
         "554475",
         "14835",
         "2.61",
         "1035290",
         "0",
         "0",
         "806189",
         "77.87"
        ],
        [
         "10",
         "2019",
         "70010",
         "6.74",
         "0.84",
         "0.17",
         "341651",
         "571811",
         "240382",
         "552610",
         "19201",
         "3.29",
         "1039284",
         "0",
         "0",
         "812193",
         "78.15"
        ],
        [
         "11",
         "2020",
         "76400",
         "7.33",
         "0.72",
         "0.11",
         "362213",
         "606711",
         "222520",
         "578760",
         "27951",
         "4.61",
         "0",
         "1089780",
         "0",
         "829231",
         "76.09"
        ],
        [
         "12",
         "2021",
         "78590",
         "7.51",
         "0.93",
         "0.17",
         "374183",
         "603048",
         "231505",
         "573418",
         "29630",
         "4.91",
         "0",
         "0",
         "1098590",
         "834553",
         "75.97"
        ],
        [
         "13",
         "2022",
         "72520",
         "6.71",
         "0.66",
         "0.09",
         "391888",
         "603997",
         "235514",
         "563849",
         "40148",
         "6.65",
         "0",
         "0",
         "1105340",
         "839511",
         "75.95047677637649"
        ]
       ],
       "shape": {
        "columns": 16,
        "rows": 14
       }
      },
      "text/html": [
       "<div>\n",
       "<style scoped>\n",
       "    .dataframe tbody tr th:only-of-type {\n",
       "        vertical-align: middle;\n",
       "    }\n",
       "\n",
       "    .dataframe tbody tr th {\n",
       "        vertical-align: top;\n",
       "    }\n",
       "\n",
       "    .dataframe thead th {\n",
       "        text-align: right;\n",
       "    }\n",
       "</style>\n",
       "<table border=\"1\" class=\"dataframe\">\n",
       "  <thead>\n",
       "    <tr style=\"text-align: right;\">\n",
       "      <th></th>\n",
       "      <th>Unnamed: 0</th>\n",
       "      <th>KEMISKINAN</th>\n",
       "      <th>Unnamed: 2</th>\n",
       "      <th>Unnamed: 3</th>\n",
       "      <th>Unnamed: 4</th>\n",
       "      <th>Unnamed: 5</th>\n",
       "      <th>PENGANGGURAN</th>\n",
       "      <th>Unnamed: 7</th>\n",
       "      <th>Unnamed: 8</th>\n",
       "      <th>Unnamed: 9</th>\n",
       "      <th>Unnamed: 10</th>\n",
       "      <th>Unnamed: 11</th>\n",
       "      <th>Unnamed: 12</th>\n",
       "      <th>Unnamed: 13</th>\n",
       "      <th>Unnamed: 14</th>\n",
       "      <th>Unnamed: 15</th>\n",
       "    </tr>\n",
       "  </thead>\n",
       "  <tbody>\n",
       "    <tr>\n",
       "      <th>0</th>\n",
       "      <td>Tahun</td>\n",
       "      <td>PendudukMiskin(Jiwa)</td>\n",
       "      <td>P0(%)</td>\n",
       "      <td>P1(%)</td>\n",
       "      <td>P2(%)</td>\n",
       "      <td>GK(Rp.)</td>\n",
       "      <td>AK(Jiwa)</td>\n",
       "      <td>BAK(Jiwa)</td>\n",
       "      <td>BEKERJA(Jiwa)</td>\n",
       "      <td>Pengangguran(Jiwa)</td>\n",
       "      <td>TPT(%)</td>\n",
       "      <td>PendudukProyeksiSP2010(Jiwa)</td>\n",
       "      <td>PendudukHasilSP2021</td>\n",
       "      <td>HasilProyeksiPendudukInterim2020-2024</td>\n",
       "      <td>AK+BAK(PendudukUsiaKerja)</td>\n",
       "      <td>ProporsiPddkUsiaKerja(Jiwa)</td>\n",
       "    </tr>\n",
       "    <tr>\n",
       "      <th>1</th>\n",
       "      <td>2010</td>\n",
       "      <td>105400</td>\n",
       "      <td>10.64</td>\n",
       "      <td>1.36</td>\n",
       "      <td>0.26</td>\n",
       "      <td>214362</td>\n",
       "      <td>543315</td>\n",
       "      <td>203746</td>\n",
       "      <td>524294</td>\n",
       "      <td>19021</td>\n",
       "      <td>3.5</td>\n",
       "      <td>990841</td>\n",
       "      <td>0</td>\n",
       "      <td>0</td>\n",
       "      <td>747061</td>\n",
       "      <td>75.4</td>\n",
       "    </tr>\n",
       "    <tr>\n",
       "      <th>2</th>\n",
       "      <td>2011</td>\n",
       "      <td>98747</td>\n",
       "      <td>9.9</td>\n",
       "      <td>1.31</td>\n",
       "      <td>0.26</td>\n",
       "      <td>234806</td>\n",
       "      <td>517678</td>\n",
       "      <td>229757</td>\n",
       "      <td>499125</td>\n",
       "      <td>18553</td>\n",
       "      <td>3.58</td>\n",
       "      <td>995731</td>\n",
       "      <td>0</td>\n",
       "      <td>0</td>\n",
       "      <td>747435</td>\n",
       "      <td>75.06</td>\n",
       "    </tr>\n",
       "    <tr>\n",
       "      <th>3</th>\n",
       "      <td>2012</td>\n",
       "      <td>94300</td>\n",
       "      <td>9.37</td>\n",
       "      <td>1.07</td>\n",
       "      <td>0.2</td>\n",
       "      <td>251372</td>\n",
       "      <td>545467</td>\n",
       "      <td>209919</td>\n",
       "      <td>528123</td>\n",
       "      <td>17344</td>\n",
       "      <td>3.18</td>\n",
       "      <td>999640</td>\n",
       "      <td>0</td>\n",
       "      <td>0</td>\n",
       "      <td>755386</td>\n",
       "      <td>75.57</td>\n",
       "    </tr>\n",
       "    <tr>\n",
       "      <th>4</th>\n",
       "      <td>2013</td>\n",
       "      <td>91300</td>\n",
       "      <td>9.03</td>\n",
       "      <td>1.15</td>\n",
       "      <td>0.24</td>\n",
       "      <td>269290</td>\n",
       "      <td>541138</td>\n",
       "      <td>216680</td>\n",
       "      <td>526175</td>\n",
       "      <td>14963</td>\n",
       "      <td>2.77</td>\n",
       "      <td>1009411</td>\n",
       "      <td>0</td>\n",
       "      <td>0</td>\n",
       "      <td>757818</td>\n",
       "      <td>75.08</td>\n",
       "    </tr>\n",
       "    <tr>\n",
       "      <th>5</th>\n",
       "      <td>2014</td>\n",
       "      <td>88990</td>\n",
       "      <td>8.75</td>\n",
       "      <td>1.03</td>\n",
       "      <td>0.21</td>\n",
       "      <td>277707</td>\n",
       "      <td>565151</td>\n",
       "      <td>213643</td>\n",
       "      <td>551480</td>\n",
       "      <td>13671</td>\n",
       "      <td>2.42</td>\n",
       "      <td>1015974</td>\n",
       "      <td>0</td>\n",
       "      <td>0</td>\n",
       "      <td>778794</td>\n",
       "      <td>76.65</td>\n",
       "    </tr>\n",
       "    <tr>\n",
       "      <th>6</th>\n",
       "      <td>2015</td>\n",
       "      <td>87370</td>\n",
       "      <td>8.57</td>\n",
       "      <td>1.27</td>\n",
       "      <td>0.3</td>\n",
       "      <td>292483</td>\n",
       "      <td>547466</td>\n",
       "      <td>238802</td>\n",
       "      <td>525867</td>\n",
       "      <td>21599</td>\n",
       "      <td>3.95</td>\n",
       "      <td>1021190</td>\n",
       "      <td>0</td>\n",
       "      <td>0</td>\n",
       "      <td>786268</td>\n",
       "      <td>77</td>\n",
       "    </tr>\n",
       "    <tr>\n",
       "      <th>7</th>\n",
       "      <td>2016</td>\n",
       "      <td>84350</td>\n",
       "      <td>8.23</td>\n",
       "      <td>0.98</td>\n",
       "      <td>0.18</td>\n",
       "      <td>304518</td>\n",
       "      <td>0</td>\n",
       "      <td>0</td>\n",
       "      <td>0</td>\n",
       "      <td>0</td>\n",
       "      <td>0</td>\n",
       "      <td>0</td>\n",
       "      <td>0</td>\n",
       "      <td>0</td>\n",
       "      <td>0</td>\n",
       "      <td>0</td>\n",
       "    </tr>\n",
       "    <tr>\n",
       "      <th>8</th>\n",
       "      <td>2017</td>\n",
       "      <td>82800</td>\n",
       "      <td>8.04</td>\n",
       "      <td>0.82</td>\n",
       "      <td>0.16</td>\n",
       "      <td>314532</td>\n",
       "      <td>537081</td>\n",
       "      <td>262764</td>\n",
       "      <td>524884</td>\n",
       "      <td>12197</td>\n",
       "      <td>2.27</td>\n",
       "      <td>1030790</td>\n",
       "      <td>0</td>\n",
       "      <td>0</td>\n",
       "      <td>799845</td>\n",
       "      <td>77.6</td>\n",
       "    </tr>\n",
       "    <tr>\n",
       "      <th>9</th>\n",
       "      <td>2018</td>\n",
       "      <td>75230</td>\n",
       "      <td>7.27</td>\n",
       "      <td>0.98</td>\n",
       "      <td>0.21</td>\n",
       "      <td>328640</td>\n",
       "      <td>569310</td>\n",
       "      <td>236879</td>\n",
       "      <td>554475</td>\n",
       "      <td>14835</td>\n",
       "      <td>2.61</td>\n",
       "      <td>1035290</td>\n",
       "      <td>0</td>\n",
       "      <td>0</td>\n",
       "      <td>806189</td>\n",
       "      <td>77.87</td>\n",
       "    </tr>\n",
       "    <tr>\n",
       "      <th>10</th>\n",
       "      <td>2019</td>\n",
       "      <td>70010</td>\n",
       "      <td>6.74</td>\n",
       "      <td>0.84</td>\n",
       "      <td>0.17</td>\n",
       "      <td>341651</td>\n",
       "      <td>571811</td>\n",
       "      <td>240382</td>\n",
       "      <td>552610</td>\n",
       "      <td>19201</td>\n",
       "      <td>3.29</td>\n",
       "      <td>1039284</td>\n",
       "      <td>0</td>\n",
       "      <td>0</td>\n",
       "      <td>812193</td>\n",
       "      <td>78.15</td>\n",
       "    </tr>\n",
       "    <tr>\n",
       "      <th>11</th>\n",
       "      <td>2020</td>\n",
       "      <td>76400</td>\n",
       "      <td>7.33</td>\n",
       "      <td>0.72</td>\n",
       "      <td>0.11</td>\n",
       "      <td>362213</td>\n",
       "      <td>606711</td>\n",
       "      <td>222520</td>\n",
       "      <td>578760</td>\n",
       "      <td>27951</td>\n",
       "      <td>4.61</td>\n",
       "      <td>0</td>\n",
       "      <td>1089780</td>\n",
       "      <td>0</td>\n",
       "      <td>829231</td>\n",
       "      <td>76.09</td>\n",
       "    </tr>\n",
       "    <tr>\n",
       "      <th>12</th>\n",
       "      <td>2021</td>\n",
       "      <td>78590</td>\n",
       "      <td>7.51</td>\n",
       "      <td>0.93</td>\n",
       "      <td>0.17</td>\n",
       "      <td>374183</td>\n",
       "      <td>603048</td>\n",
       "      <td>231505</td>\n",
       "      <td>573418</td>\n",
       "      <td>29630</td>\n",
       "      <td>4.91</td>\n",
       "      <td>0</td>\n",
       "      <td>0</td>\n",
       "      <td>1098590</td>\n",
       "      <td>834553</td>\n",
       "      <td>75.97</td>\n",
       "    </tr>\n",
       "    <tr>\n",
       "      <th>13</th>\n",
       "      <td>2022</td>\n",
       "      <td>72520</td>\n",
       "      <td>6.71</td>\n",
       "      <td>0.66</td>\n",
       "      <td>0.09</td>\n",
       "      <td>391888</td>\n",
       "      <td>603997</td>\n",
       "      <td>235514</td>\n",
       "      <td>563849</td>\n",
       "      <td>40148</td>\n",
       "      <td>6.65</td>\n",
       "      <td>0</td>\n",
       "      <td>0</td>\n",
       "      <td>1105340</td>\n",
       "      <td>839511</td>\n",
       "      <td>75.950477</td>\n",
       "    </tr>\n",
       "  </tbody>\n",
       "</table>\n",
       "</div>"
      ],
      "text/plain": [
       "   Unnamed: 0            KEMISKINAN Unnamed: 2 Unnamed: 3 Unnamed: 4  \\\n",
       "0       Tahun  PendudukMiskin(Jiwa)      P0(%)      P1(%)      P2(%)   \n",
       "1        2010                105400      10.64       1.36       0.26   \n",
       "2        2011                 98747        9.9       1.31       0.26   \n",
       "3        2012                 94300       9.37       1.07        0.2   \n",
       "4        2013                 91300       9.03       1.15       0.24   \n",
       "5        2014                 88990       8.75       1.03       0.21   \n",
       "6        2015                 87370       8.57       1.27        0.3   \n",
       "7        2016                 84350       8.23       0.98       0.18   \n",
       "8        2017                 82800       8.04       0.82       0.16   \n",
       "9        2018                 75230       7.27       0.98       0.21   \n",
       "10       2019                 70010       6.74       0.84       0.17   \n",
       "11       2020                 76400       7.33       0.72       0.11   \n",
       "12       2021                 78590       7.51       0.93       0.17   \n",
       "13       2022                 72520       6.71       0.66       0.09   \n",
       "\n",
       "   Unnamed: 5 PENGANGGURAN Unnamed: 7     Unnamed: 8          Unnamed: 9  \\\n",
       "0     GK(Rp.)     AK(Jiwa)  BAK(Jiwa)  BEKERJA(Jiwa)  Pengangguran(Jiwa)   \n",
       "1      214362       543315     203746         524294               19021   \n",
       "2      234806       517678     229757         499125               18553   \n",
       "3      251372       545467     209919         528123               17344   \n",
       "4      269290       541138     216680         526175               14963   \n",
       "5      277707       565151     213643         551480               13671   \n",
       "6      292483       547466     238802         525867               21599   \n",
       "7      304518            0          0              0                   0   \n",
       "8      314532       537081     262764         524884               12197   \n",
       "9      328640       569310     236879         554475               14835   \n",
       "10     341651       571811     240382         552610               19201   \n",
       "11     362213       606711     222520         578760               27951   \n",
       "12     374183       603048     231505         573418               29630   \n",
       "13     391888       603997     235514         563849               40148   \n",
       "\n",
       "   Unnamed: 10                   Unnamed: 11          Unnamed: 12  \\\n",
       "0       TPT(%)  PendudukProyeksiSP2010(Jiwa)  PendudukHasilSP2021   \n",
       "1          3.5                        990841                    0   \n",
       "2         3.58                        995731                    0   \n",
       "3         3.18                        999640                    0   \n",
       "4         2.77                       1009411                    0   \n",
       "5         2.42                       1015974                    0   \n",
       "6         3.95                       1021190                    0   \n",
       "7            0                             0                    0   \n",
       "8         2.27                       1030790                    0   \n",
       "9         2.61                       1035290                    0   \n",
       "10        3.29                       1039284                    0   \n",
       "11        4.61                             0              1089780   \n",
       "12        4.91                             0                    0   \n",
       "13        6.65                             0                    0   \n",
       "\n",
       "                              Unnamed: 13                Unnamed: 14  \\\n",
       "0   HasilProyeksiPendudukInterim2020-2024  AK+BAK(PendudukUsiaKerja)   \n",
       "1                                       0                     747061   \n",
       "2                                       0                     747435   \n",
       "3                                       0                     755386   \n",
       "4                                       0                     757818   \n",
       "5                                       0                     778794   \n",
       "6                                       0                     786268   \n",
       "7                                       0                          0   \n",
       "8                                       0                     799845   \n",
       "9                                       0                     806189   \n",
       "10                                      0                     812193   \n",
       "11                                      0                     829231   \n",
       "12                                1098590                     834553   \n",
       "13                                1105340                     839511   \n",
       "\n",
       "                    Unnamed: 15  \n",
       "0   ProporsiPddkUsiaKerja(Jiwa)  \n",
       "1                          75.4  \n",
       "2                         75.06  \n",
       "3                         75.57  \n",
       "4                         75.08  \n",
       "5                         76.65  \n",
       "6                            77  \n",
       "7                             0  \n",
       "8                          77.6  \n",
       "9                         77.87  \n",
       "10                        78.15  \n",
       "11                        76.09  \n",
       "12                        75.97  \n",
       "13                    75.950477  "
      ]
     },
     "execution_count": 27,
     "metadata": {},
     "output_type": "execute_result"
    }
   ],
   "source": [
    "df_kemiskinan = pd.read_excel(\"Dashboard Interaktif/Dataset/TENAGA KERJA/fix tenaga kerja/Kemiskinan dan Pengangguran di kabupaten Tulungagung 2010-2020.xlsx\", header=2)\n",
    "df_kemiskinan"
   ]
  },
  {
   "cell_type": "code",
   "execution_count": 28,
   "id": "58df5bcb",
   "metadata": {},
   "outputs": [],
   "source": [
    "df_kemiskinan.columns = [\n",
    "    \"Tahun\", \"Penduduk_Miskin\", \"P0\", \"P1\", \"P2\", \"Garis_Kemiskinan\",\n",
    "    \"Angkatan_Kerja\", \"Bukan_Angkatan_Kerja\", \"Bekerja\", \"Pengangguran\",\n",
    "    \"Tingkat_Pengangguran_Terbuka\", \"Proyeksi_SP2010\", \"Penduduk_SP2021\",\n",
    "    \"Proyeksi_Interim\", \"Penduduk_Usia_Kerja\", \"Proporsi_Usia_Kerja\"\n",
    "]"
   ]
  },
  {
   "cell_type": "code",
   "execution_count": 30,
   "id": "2a5681d4",
   "metadata": {},
   "outputs": [],
   "source": [
    "numeric_cols = df_kemiskinan.columns.drop(\"Tahun\")\n",
    "df_kemiskinan[numeric_cols] = df_kemiskinan[numeric_cols].apply(pd.to_numeric, errors=\"coerce\")"
   ]
  },
  {
   "cell_type": "code",
   "execution_count": 31,
   "id": "0866f52a",
   "metadata": {},
   "outputs": [],
   "source": [
    "df_kemiskinan.to_csv(\"Dashboard Interaktif/Data Clean/kemiskinan_pengangguran_tulungagung_2010-2020.csv\", index=False)\n"
   ]
  },
  {
   "cell_type": "code",
   "execution_count": null,
   "id": "ffa858b1",
   "metadata": {},
   "outputs": [],
   "source": []
  }
 ],
 "metadata": {
  "kernelspec": {
   "display_name": "base",
   "language": "python",
   "name": "python3"
  },
  "language_info": {
   "codemirror_mode": {
    "name": "ipython",
    "version": 3
   },
   "file_extension": ".py",
   "mimetype": "text/x-python",
   "name": "python",
   "nbconvert_exporter": "python",
   "pygments_lexer": "ipython3",
   "version": "3.12.3"
  }
 },
 "nbformat": 4,
 "nbformat_minor": 5
}
